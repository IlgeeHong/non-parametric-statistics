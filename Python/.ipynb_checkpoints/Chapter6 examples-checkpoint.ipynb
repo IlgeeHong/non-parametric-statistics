{
 "cells": [
  {
   "cell_type": "markdown",
   "metadata": {},
   "source": [
    "## Kolmogorov Goodness of Fit Test"
   ]
  },
  {
   "cell_type": "code",
   "execution_count": null,
   "metadata": {},
   "outputs": [],
   "source": [
    "import numpy as np\n",
    "from scipy import stats\n",
    "\n",
    "data = np.array([-0.94,-2.08,2.71,-0.56,2.46,-3.70,\n",
    "                 1.54,0.71,0.53,-2.47,-1.63,-0.92,-1.11])\n",
    "\n",
    "stats.kstest(data,'norm',alternative='two-sided')"
   ]
  },
  {
   "cell_type": "markdown",
   "metadata": {},
   "source": [
    "## EDF vs. CDF"
   ]
  },
  {
   "cell_type": "code",
   "execution_count": null,
   "metadata": {},
   "outputs": [],
   "source": [
    "import numpy as np\n",
    "import matplotlib.pyplot as plt\n",
    "from scipy import stats\n",
    "\n",
    "data = np.array([-0.94,-2.08,2.71,-0.56,2.46,-3.70,\n",
    "                 1.54,0.71,0.53,-2.47,-1.63,-0.92,-1.11])\n",
    "data = np.sort(data)\n",
    "y = np.linspace(1/len(data),1,len(data))\n",
    "fig, ax = plt.subplots(1)\n",
    "y1, = ax.step(data,y,where='post')\n",
    "\n",
    "x = np.linspace(data.min(),data.max(),100)\n",
    "cdf = stats.norm.cdf(x) \n",
    "y2, = ax.plot(x,cdf)\n",
    "\n",
    "ax.legend((y1,y2),('EDF','CDF'))\n",
    "ax.set_title('EDF vs. CDF')\n",
    "ax.set_xlabel('x')\n",
    "ax.set_ylabel('F(x)')"
   ]
  },
  {
   "cell_type": "markdown",
   "metadata": {},
   "source": [
    "## Cramer-von Mises Goodness of Fit Test"
   ]
  },
  {
   "cell_type": "code",
   "execution_count": null,
   "metadata": {},
   "outputs": [],
   "source": [
    "import numpy as np\n",
    "from scipy import stats\n",
    "\n",
    "data = np.array([-0.94,-2.08,2.71,-0.56,2.46,-3.70,\n",
    "                 1.54,0.71,0.53,-2.47,-1.63,-0.92,-1.11])\n",
    "\n",
    "stats.cramervonmises(data,'norm')"
   ]
  },
  {
   "cell_type": "markdown",
   "metadata": {},
   "source": [
    "## Anderson Darling Test"
   ]
  },
  {
   "cell_type": "code",
   "execution_count": null,
   "metadata": {},
   "outputs": [],
   "source": [
    "import numpy as np\n",
    "from scipy import stats\n",
    "\n",
    "data = np.array([-0.94,-2.08,2.71,-0.56,2.46,-3.70,\n",
    "                 1.54,0.71,0.53,-2.47,-1.63,-0.92,-1.11])\n",
    "\n",
    "stats.anderson(data,'norm')"
   ]
  },
  {
   "cell_type": "markdown",
   "metadata": {},
   "source": [
    "## Kolmogorov-Smirnov Test"
   ]
  },
  {
   "cell_type": "code",
   "execution_count": null,
   "metadata": {},
   "outputs": [],
   "source": [
    "import numpy as np\n",
    "from scipy import stats\n",
    "\n",
    "econ = np.array([3.2,3.36,3.43,3.54,3.88,4.01])\n",
    "stat = np.array([2.78,3.37,3.54,3.87,3.97,3.98,4.02])\n",
    "\n",
    "stats.kstest(econ,stat,alternative='two-sided')"
   ]
  },
  {
   "cell_type": "markdown",
   "metadata": {},
   "source": [
    "## ROC Curve"
   ]
  },
  {
   "cell_type": "code",
   "execution_count": null,
   "metadata": {},
   "outputs": [],
   "source": [
    "import matplotlib.pyplot as plt\n",
    "import numpy as np\n",
    "\n",
    "# Plot the EDF\n",
    "x1 = np.array([28,55,67,84,85,87,110,145])\n",
    "x2 = np.array([25,43,50,54,76,80,121])\n",
    "y1 = np.linspace(1/len(x1),1,len(x1))\n",
    "y2 = np.linspace(1/len(x2),1,len(x2))\n",
    "fig, ax = plt.subplots(1,2,figsize=(12,4))\n",
    "xx1, = ax[0].step(x1,y1,where='post')\n",
    "xx2, = ax[0].step(x2,y2,where='post')\n",
    "ax[0].legend((xx1,xx2),('$EDF(X_1)$','$EDF(X_2)$'))\n",
    "\n",
    "# Plot the ROC curve\n",
    "f = np.array([1,6/7,6/7,5/7,4/7,3/7,3/7,3/7,2/7,1/7,1/7,1/7,1/7,1/7,0,0])\n",
    "g = np.array([1,1,7/8,7/8,7/8,7/8,6/8,5/8,5/8,5/8,4/8,3/8,2/8,1/8,1/8,0])\n",
    "\n",
    "ax[1].plot(f,g)\n",
    "ax[1].plot(np.linspace(0,1,100),np.linspace(0,1,100),'g--')"
   ]
  },
  {
   "cell_type": "code",
   "execution_count": null,
   "metadata": {},
   "outputs": [],
   "source": [
    "import matplotlib.pyplot as plt\n",
    "import numpy as np\n",
    "import warnings\n",
    "warnings.filterwarnings('ignore')\n",
    "plt.rc('font', family='AppleGothic')\n",
    "\n",
    "f1 = np.array([1,1,1,1,0,0,0,0,0])\n",
    "g1 = np.array([1,1,1,1,1,3/4,2/4,1/4,0])\n",
    "\n",
    "fig1, ax1 = plt.subplots(1,2,figsize=(12,4))\n",
    "\n",
    "ax1[0].plot(np.linspace(0,1,100),np.linspace(0,1,100),c='C0')\n",
    "ax1[0].set_title('F(X)=G(X)인 경우')\n",
    "\n",
    "ax1[1].plot(0.8*f1+0.2*g1,g1)\n",
    "ax1[1].plot(np.linspace(0,1,100),np.linspace(0,1,100),'g--')\n",
    "ax1[1].set_title('F(X)와 G(X)가 완전히 겹치지 않는 경우')\n",
    "ax1[1].hlines(1,0,0.2,linestyle='dashed',colors='black')\n",
    "ax1[1].annotate('p',(0.1,0.9),ha='center',size=20)"
   ]
  },
  {
   "cell_type": "code",
   "execution_count": null,
   "metadata": {},
   "outputs": [],
   "source": [
    "import matplotlib.pyplot as plt\n",
    "import numpy as np\n",
    "from scipy import stats\n",
    "\n",
    "fig2, ax2 = plt.subplots(1, figsize=(12,4))\n",
    "\n",
    "x = np.linspace(-10,10,1000)\n",
    "norm1 = stats.norm.pdf(x,-5,1)\n",
    "norm2 = stats.norm.pdf(x,5,1)\n",
    "ax2.plot(x,norm1)\n",
    "ax2.plot(x,norm2)\n",
    "ax2.plot(x,[0]*1000,c='k')\n",
    "ax2.autoscale(axis='y',tight=True)\n",
    "ax2.annotate('F(X)',(-5,0.05),ha='center',size=20)\n",
    "ax2.annotate('G(X)',(5,0.05),ha='center',size=20)"
   ]
  },
  {
   "cell_type": "markdown",
   "metadata": {},
   "source": [
    "## Q-Q plot"
   ]
  },
  {
   "cell_type": "code",
   "execution_count": null,
   "metadata": {},
   "outputs": [],
   "source": [
    "import statsmodels.api as sm\n",
    "import matplotlib.pyplot as plt\n",
    "import numpy as np\n",
    "from scipy.stats import norm \n",
    "data = np.array([-0.94,-2.08,2.71,-0.56,2.46,-3.70,\n",
    "                 1.54,0.71,0.53,-2.47,-1.63,-0.92,-1.11])\n",
    "fig, ax = plt.subplots(1, figsize=(6,4))\n",
    "sm.qqplot(data, norm, line='45', ax = ax)"
   ]
  },
  {
   "cell_type": "code",
   "execution_count": 2,
   "metadata": {},
   "outputs": [
    {
     "data": {
      "image/png": "[encoded data removed]",
      "text/plain": [
       "<Figure size 288x432 with 1 Axes>"
      ]
     },
     "execution_count": 2,
     "metadata": {},
     "output_type": "execute_result"
    },
    {
     "data": {
      "image/png": "[encoded data removed]",
      "text/plain": [
       "<Figure size 288x432 with 1 Axes>"
      ]
     },
     "metadata": {
      "needs_background": "light"
     },
     "output_type": "display_data"
    }
   ],
   "source": [
    "import statsmodels.api as sm\n",
    "import matplotlib.pyplot as plt\n",
    "import numpy as np\n",
    "econ = np.array([3.20,3.36,3.43,3.54,3.88,4.01])\n",
    "stat = np.array([2.78,3.37,3.54,3.87,3.97,3.98,4.02])\n",
    "fig1, ax1 = plt.subplots(1, figsize=(4,6))\n",
    "sm.qqplot_2samples(stat, econ, xlabel = 'econ', ylabel = 'stat', \n",
    "                   line = '45', ax = ax1)"
   ]
  },
  {
   "cell_type": "code",
   "execution_count": null,
   "metadata": {},
   "outputs": [],
   "source": []
  }
 ],
 "metadata": {
  "kernelspec": {
   "display_name": "Python 3",
   "language": "python",
   "name": "python3"
  },
  "language_info": {
   "codemirror_mode": {
    "name": "ipython",
    "version": 3
   },
   "file_extension": ".py",
   "mimetype": "text/x-python",
   "name": "python",
   "nbconvert_exporter": "python",
   "pygments_lexer": "ipython3",
   "version": "3.8.5"
  }
 },
 "nbformat": 4,
 "nbformat_minor": 4
}
