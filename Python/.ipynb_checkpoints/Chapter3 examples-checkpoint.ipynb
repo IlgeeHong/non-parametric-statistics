{
 "cells": [
  {
   "cell_type": "markdown",
   "metadata": {},
   "source": [
    "# 3장 예제"
   ]
  },
  {
   "cell_type": "code",
   "execution_count": 1,
   "metadata": {},
   "outputs": [],
   "source": [
    "import numpy as np\n",
    "import matplotlib.pyplot as plt\n",
    "import pandas as pd\n",
    "from scipy import stats\n",
    "import warnings\n",
    "warnings.filterwarnings('ignore')\n",
    "plt.rc('font', family='AppleGothic')"
   ]
  },
  {
   "cell_type": "code",
   "execution_count": 2,
   "metadata": {},
   "outputs": [
    {
     "data": {
      "text/plain": [
       "Text(0.5, 1.0, '산점도')"
      ]
     },
     "execution_count": 2,
     "metadata": {},
     "output_type": "execute_result"
    },
    {
     "data": {
      "image/png": "[encoded data removed]",
      "text/plain": [
       "<Figure size 432x288 with 1 Axes>"
      ]
     },
     "metadata": {
      "needs_background": "light"
     },
     "output_type": "display_data"
    }
   ],
   "source": [
    "X = np.array([382, 376, 377, 377, 365, 370, 356, 364, 356, 358, 372, 368])\n",
    "Y = np.array([4.2, 4.1, 3.6, 3.8, 3.9, 3.2, 2.2, 3.5, 3.3, 3.5, 2.8, 2.3])\n",
    "plt.scatter(X,Y)\n",
    "plt.xlabel('수능점수')\n",
    "plt.ylabel('내신점수')\n",
    "plt.title('산점도')"
   ]
  },
  {
   "cell_type": "code",
   "execution_count": 3,
   "metadata": {},
   "outputs": [
    {
     "data": {
      "text/plain": [
       "Text(0.5, 1.0, '상자그림')"
      ]
     },
     "execution_count": 3,
     "metadata": {},
     "output_type": "execute_result"
    },
    {
     "data": {
      "image/png": "[encoded data removed]",
      "text/plain": [
       "<Figure size 432x288 with 1 Axes>"
      ]
     },
     "metadata": {
      "needs_background": "light"
     },
     "output_type": "display_data"
    }
   ],
   "source": [
    "econ = np.array([3.2, 3.76, 2.43, 3.54, 3.88, 4.01])\n",
    "stat = np.array([2.78, 3.37, 4.04, 3.27, 3.57, 3.98, 4.02])\n",
    "busi = np.array([3.77, 4.12, 3.56, 3.89])\n",
    "plt.boxplot(x=[econ, stat, busi], labels=[\"경제학\", \"통계학\", \"경영학\"])\n",
    "plt.title('상자그림')"
   ]
  },
  {
   "cell_type": "code",
   "execution_count": 4,
   "metadata": {},
   "outputs": [
    {
     "data": {
      "text/plain": [
       "(0.5125426884655703, 0.08841204646982714)"
      ]
     },
     "execution_count": 4,
     "metadata": {},
     "output_type": "execute_result"
    }
   ],
   "source": [
    "stats.pearsonr(X,Y)"
   ]
  },
  {
   "cell_type": "code",
   "execution_count": 5,
   "metadata": {},
   "outputs": [
    {
     "data": {
      "text/plain": [
       "SpearmanrResult(correlation=0.5834806902022491, pvalue=0.046414965997292175)"
      ]
     },
     "execution_count": 5,
     "metadata": {},
     "output_type": "execute_result"
    }
   ],
   "source": [
    "stats.spearmanr(X,Y)"
   ]
  },
  {
   "cell_type": "code",
   "execution_count": 6,
   "metadata": {},
   "outputs": [
    {
     "data": {
      "text/plain": [
       "KendalltauResult(correlation=0.44962591288588066, pvalue=0.045216421534026836)"
      ]
     },
     "execution_count": 6,
     "metadata": {},
     "output_type": "execute_result"
    }
   ],
   "source": [
    "stats.kendalltau(X,Y,method='asymptotic')"
   ]
  },
  {
   "cell_type": "code",
   "execution_count": 7,
   "metadata": {},
   "outputs": [],
   "source": [
    "from scipy.stats import f_oneway"
   ]
  },
  {
   "cell_type": "code",
   "execution_count": 8,
   "metadata": {},
   "outputs": [
    {
     "data": {
      "text/plain": [
       "F_onewayResult(statistic=0.7112332755875572, pvalue=0.5079481591347955)"
      ]
     },
     "execution_count": 8,
     "metadata": {},
     "output_type": "execute_result"
    }
   ],
   "source": [
    "f_oneway(econ,stat,busi)"
   ]
  },
  {
   "cell_type": "code",
   "execution_count": 9,
   "metadata": {},
   "outputs": [
    {
     "name": "stdout",
     "output_type": "stream",
     "text": [
      "                df    sum_sq   mean_sq         F    PR(>F)\n",
      "C(treatment)   2.0  0.326423  0.163211  0.711233  0.507948\n",
      "Residual      14.0  3.212671  0.229477       NaN       NaN\n"
     ]
    }
   ],
   "source": [
    "from statsmodels.formula.api import ols\n",
    "from statsmodels.stats.anova import anova_lm\n",
    "econ = [3.2, 3.76, 2.43, 3.54, 3.88, 4.01]\n",
    "stat = [2.78, 3.37, 4.04, 3.27, 3.57, 3.98, 4.02]\n",
    "busi = [3.77, 4.12, 3.56, 3.89]\n",
    "value = econ+stat+busi\n",
    "treatment = [1]*len(econ)+[2]*len(stat)+[3]*len(busi)\n",
    "df = pd.DataFrame(data = {'value':value, 'treatment': treatment})\n",
    "model = ols('value~C(treatment)', df).fit()\n",
    "print(anova_lm(model))"
   ]
  },
  {
   "cell_type": "code",
   "execution_count": 12,
   "metadata": {},
   "outputs": [
    {
     "name": "stdout",
     "output_type": "stream",
     "text": [
      "                df      sum_sq    mean_sq         F    PR(>F)\n",
      "C(treatment)   2.0   25.503333  12.751667  0.810882  0.471671\n",
      "C(block)       5.0  114.560000  22.912000  1.456981  0.285917\n",
      "Residual      10.0  157.256667  15.725667       NaN       NaN\n"
     ]
    }
   ],
   "source": [
    "from statsmodels.formula.api import ols\n",
    "from statsmodels.stats.anova import anova_lm\n",
    "a = [6.6, 7.1, 7.5, 9.9, 13.8, 13.9]\n",
    "b = [12.6, 3.5, 4.4, 7.5, 6.4, 13.5]\n",
    "c = [2.7, 2.4, 6.5, 16.2, 8.3, 5.4]\n",
    "value = a+b+c\n",
    "treatment = [1]*len(a)+[2]*len(b)+[3]*len(c)\n",
    "block = [*range(1,len(a)+1)]+[*range(1,len(b)+1)]+[*range(1,len(c)+1)]\n",
    "df = pd.DataFrame(data = {'value':value, 'treatment': treatment, \n",
    "                          'block':block})\n",
    "model = ols('value ~ C(treatment)+C(block)', df).fit()\n",
    "print(anova_lm(model))"
   ]
  }
 ],
 "metadata": {
  "kernelspec": {
   "display_name": "Python 3",
   "language": "python",
   "name": "python3"
  },
  "language_info": {
   "codemirror_mode": {
    "name": "ipython",
    "version": 3
   },
   "file_extension": ".py",
   "mimetype": "text/x-python",
   "name": "python",
   "nbconvert_exporter": "python",
   "pygments_lexer": "ipython3",
   "version": "3.8.5"
  }
 },
 "nbformat": 4,
 "nbformat_minor": 4
}
