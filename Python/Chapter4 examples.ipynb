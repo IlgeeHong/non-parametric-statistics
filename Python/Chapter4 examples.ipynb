{
 "cells": [
  {
   "cell_type": "markdown",
   "metadata": {},
   "source": [
    "# 4장 예제"
   ]
  },
  {
   "cell_type": "code",
   "execution_count": 8,
   "metadata": {},
   "outputs": [
    {
     "data": {
      "text/plain": [
       "MannwhitneyuResult(statistic=40.0, pvalue=0.1832329769288218)"
      ]
     },
     "execution_count": 8,
     "metadata": {},
     "output_type": "execute_result"
    }
   ],
   "source": [
    "from scipy import stats\n",
    "X1 = [28, 87, 145, 110, 55, 84, 85, 67]\n",
    "X2 = [80, 50, 43, 121, 25, 54, 76]\n",
    "stats.mannwhitneyu(X1,X2,alternative='two-sided')"
   ]
  },
  {
   "cell_type": "code",
   "execution_count": 9,
   "metadata": {},
   "outputs": [
    {
     "data": {
      "text/plain": [
       "KruskalResult(statistic=1.6339869281045765, pvalue=0.4417578206919741)"
      ]
     },
     "execution_count": 9,
     "metadata": {},
     "output_type": "execute_result"
    }
   ],
   "source": [
    "econ = [3.20, 3.76, 2.43, 3.54, 3.88, 4.01]\n",
    "stat = [2.78, 3.37, 4.04, 3.27, 3.57, 3.98, 4.02]\n",
    "busi = [3.77, 4.12, 3.56, 3.89]\n",
    "stats.kruskal(econ,stat,busi)"
   ]
  }
 ],
 "metadata": {
  "kernelspec": {
   "display_name": "Python 3",
   "language": "python",
   "name": "python3"
  },
  "language_info": {
   "codemirror_mode": {
    "name": "ipython",
    "version": 3
   },
   "file_extension": ".py",
   "mimetype": "text/x-python",
   "name": "python",
   "nbconvert_exporter": "python",
   "pygments_lexer": "ipython3",
   "version": "3.8.5"
  }
 },
 "nbformat": 4,
 "nbformat_minor": 4
}
