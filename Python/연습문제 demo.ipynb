{
 "cells": [
  {
   "cell_type": "markdown",
   "metadata": {},
   "source": [
    "# 연습문제 풀이"
   ]
  },
  {
   "cell_type": "markdown",
   "metadata": {},
   "source": []
  },
  {
   "cell_type": "markdown",
   "metadata": {},
   "source": [
    "# 1장 연습문제"
   ]
  },
  {
   "cell_type": "markdown",
   "metadata": {},
   "source": [
    "***2-1)*** <br>\n",
    "주어진 확률변수 $X$가 균등분포이기 위해서 모든 $(x_k,P_k)$는 일직선상에 있어야 한다. 이 때, $P_n=1$이므로 시작점과 끝점인 $(x_1,P_1)$과 $(x_n,1)$을 이은 직선의 기울기를 생각해 보면 $\\frac{1-P_1}{x_n-x_1}$인 것을 알 수 있다. 따라서 $(x_i,P_i)$가 일직선 상에 놓이기 위해서 $(x_1,P_1)$과 $(x_i',P_i)$를 이은 기울기도 $\\frac{1-P_1}{x_n-x_1}$이어야 한다. 따라서 $$\\frac{P_i-P_1}{x_i'-x_1}=\\frac{1-P_1}{x_n-x_1}\\Leftrightarrow x_i'=\\frac{(P_i-P_1)(x_n-x_1)}{1-P_1}+x_1$$"
   ]
  },
  {
   "cell_type": "markdown",
   "metadata": {},
   "source": [
    "***4)*** <br>\n",
    "지수분포의 무기억성 성질 때문에 $X$가 평균이 77인 지수분포를 따르므로 $X-50|X>50$이라는 확률변수 또한 평균이 77인 지수분포를 따른다. 따라서 $E(X-50|X>50)=77$이라는 결과는 자연스러운 결과이다. 따라서 지수분포의 무기억성 성질에 의하여 사람 수명에 대한 모델로서 지수분포를 이용하는 것은 바람직하지 않다."
   ]
  },
  {
   "cell_type": "markdown",
   "metadata": {},
   "source": [
    "***5-1)*** <br>\n",
    "주어진 표본을 통해 $\\bar{X}=4$, $s^2=\\frac{1}{n-1}\\sum(X_i-\\bar{X})^2=4$인 것을 알 수 있으므로 $X\\sim N(4,2^2)$라고 가정하자. 따라서 $P(X>5)=P((X-4)/2>(5-4)/2)=P(Z>1/2)$. 마찬가지로 $\\bar{X_3}\\sim N(4,(2/\\sqrt{3})^2)$라고 가정할 수 있으므로 $P(\\bar{X_3}>5)=P((\\bar{X_3}-4)/(2/\\sqrt{3})>(5-4)/(2/\\sqrt{3}))=P(Z>\\sqrt{3}/2)$"
   ]
  },
  {
   "cell_type": "markdown",
   "metadata": {},
   "source": [
    "***5-2)*** <br>\n",
    "주어진 표본의 모집단의 분포가 알려져 있지 않기 때문에 각 표본은 $1/3$의 확률을 갖는다. 따라서 $P(X>5)=P(X=6)=1/3$. 모집단의 분포가 알려져 있지 않기 때문에 $\\bar{X_3}$의 분포 또한 알 수 없다. 또한 표본의 개수가 3으로 충분히 크지 않기 때문에 CLT를 이용할 수 없다. 따라서 Bootstrap과 같은 방법을 통해 추정할 수 있다."
   ]
  },
  {
   "cell_type": "markdown",
   "metadata": {},
   "source": [
    "***6)*** <br>\n",
    "$F(x)$의 그림은 다음과 같다."
   ]
  },
  {
   "cell_type": "code",
   "execution_count": 12,
   "metadata": {
    "hide_input": true
   },
   "outputs": [
    {
     "data": {
      "text/plain": [
       "Text(0, 0.5, 'F(x)')"
      ]
     },
     "execution_count": 12,
     "metadata": {},
     "output_type": "execute_result"
    },
    {
     "data": {
      "image/png": "[encoded data removed]",
      "text/plain": [
       "<Figure size 432x288 with 1 Axes>"
      ]
     },
     "metadata": {
      "needs_background": "light"
     },
     "output_type": "display_data"
    }
   ],
   "source": [
    "import matplotlib.pyplot as plt\n",
    "import numpy as np\n",
    "fig, ax = plt.subplots(1,1)\n",
    "x = np.array([1,2,3])\n",
    "p = np.array([0.3,0.4,0.3])\n",
    "F = np.cumsum(p)\n",
    "ax.step(x,F,'.-g',where='post')\n",
    "ax.hlines(0,0,x[0],'g')\n",
    "ax.hlines(1,x.max(),4,'g')\n",
    "ax.vlines(x.min(),0,F.min(),'g')\n",
    "ax.set_title('CDF')\n",
    "ax.set_xlabel('x')\n",
    "ax.set_ylabel('F(x)')"
   ]
  },
  {
   "cell_type": "markdown",
   "metadata": {},
   "source": [
    "따라서 $F(2-)=0.3$, $F(2)=0.7$이다. $\\int_0^\\infty(1-F(x))dx=\\int_0^\\infty S(x)dx$이므로 위 그래프에서 주어진 그래프 위쪽 부분과 $y=1$ 아래 부분의 넓이를 구하면 $1+0.7+0.3=2$이다. 또한 $E(X)=1\\times0.3+2\\times0.4+3\\times0.3=2$ 이므로 $\\int_0^\\infty(1-F(x))dx=E(X)$이다. <br>\n",
    "위 관계식을 유도해보면 $X>0$일 때, $$E(X)=\\int_0^\\infty xf(x) dx=\\int_0^\\infty f(x) \\int_0^x 1dydx=\\int_0^\\infty \\int_0^x f(x)dydx$$$$=\\int_0^\\infty \\int_y^\\infty f(x) dxdy=\\int_0^\\infty S(y)dy.$$"
   ]
  },
  {
   "cell_type": "markdown",
   "metadata": {},
   "source": [
    "***7)*** <br>\n",
    "$F(x)$의 그림은 다음과 같다."
   ]
  },
  {
   "cell_type": "code",
   "execution_count": 12,
   "metadata": {
    "hide_input": true
   },
   "outputs": [
    {
     "data": {
      "text/plain": [
       "Text(0, 0.5, 'F(x)')"
      ]
     },
     "execution_count": 12,
     "metadata": {},
     "output_type": "execute_result"
    },
    {
     "data": {
      "image/png": "[encoded data removed]",
      "text/plain": [
       "<Figure size 432x288 with 1 Axes>"
      ]
     },
     "metadata": {
      "needs_background": "light"
     },
     "output_type": "display_data"
    }
   ],
   "source": [
    "import matplotlib.pyplot as plt\n",
    "import numpy as np\n",
    "fig, ax = plt.subplots(1,1)\n",
    "x = np.array([0,1,2,3])\n",
    "p = np.array([1/4,1/4,1/3,1/6])\n",
    "F = np.cumsum(p)\n",
    "ax.step(x,F,'.-g',where='post')\n",
    "ax.hlines(1,x.max(),4,'g')\n",
    "ax.vlines(x.min(),0,F.min(),'g')\n",
    "ax.hlines(0.5,0,1,'b',ls='dashed')\n",
    "ax.hlines(0.75,0,2,'b',ls='dashed')\n",
    "ax.set_title('CDF')\n",
    "ax.set_xlabel('x')\n",
    "ax.set_ylabel('F(x)')"
   ]
  },
  {
   "cell_type": "markdown",
   "metadata": {},
   "source": [
    "따라서 0.5번째 분위수는 $[1,2]$이며 0.75번째 분위수는 2이다."
   ]
  },
  {
   "cell_type": "markdown",
   "metadata": {},
   "source": [
    "***8)*** <br>\n",
    "$(0,1/4)$과 $(3,1)$를 지나는 직선은 $y=\\frac{1}{4}x+\\frac{1}{4}$이다. 따라서 $(a,1/2)$와 $(b,5/6)$가 위 직선 위에 있기 위해서는 $a=1$, $b=7/3$이다.  "
   ]
  },
  {
   "cell_type": "markdown",
   "metadata": {},
   "source": [
    "***9)***\n",
    "$$\\frac{F'(x)}{1-F(x)}=\\frac{f(x)}{S(x)}=h(x)=c$$\n",
    "hazard function $h(x)$가 상수함수라는 것은 $f(x)=ce^{-cx}$, 즉 X가 평균이 $1/c$인 지수분포를 따른다는 것을 의미한다. 또한,\n",
    "$$h(x)=\\frac{f(x)}{S(x)}=\\frac{Pr(x<X<x+\\Delta x)}{Pr(X>x)}=Pr(x<X<x+\\Delta x|X>x)$$ 즉 hazard function은 생존분석 관점에서 $x$ 시간 이상 살았을 때, 곧바로 사건이 발생할 위험성을 뜻한다. 따라서 hazard function 값이 상수라는 것은 몇 시간 이상 살았는지와 관계없이 곧 사건이 발생할 위험성이 항상 같다는 것을 의미하며 이는 지수분포의 무기억성을 뜻한다."
   ]
  },
  {
   "cell_type": "markdown",
   "metadata": {},
   "source": []
  },
  {
   "cell_type": "markdown",
   "metadata": {},
   "source": [
    "# 2장 연습문제"
   ]
  },
  {
   "cell_type": "markdown",
   "metadata": {},
   "source": [
    "***1-1)***<br> \n",
    "경험분포함수는 다음과 같다."
   ]
  },
  {
   "cell_type": "code",
   "execution_count": 2,
   "metadata": {
    "hide_input": true
   },
   "outputs": [
    {
     "data": {
      "text/plain": [
       "Text(0, 0.5, 'F(x)')"
      ]
     },
     "execution_count": 2,
     "metadata": {},
     "output_type": "execute_result"
    },
    {
     "data": {
      "image/png": "[encoded data removed]",
      "text/plain": [
       "<Figure size 432x288 with 1 Axes>"
      ]
     },
     "metadata": {
      "needs_background": "light"
     },
     "output_type": "display_data"
    }
   ],
   "source": [
    "import matplotlib.pyplot as plt\n",
    "import numpy as np\n",
    "x = np.array([-2.3, 2.1, 1.3, 1.4, 0.3, -0.5, 3.2, 0.6, 0.9])\n",
    "x.sort()\n",
    "y = np.linspace(start=1/len(x), stop=1, num=9)\n",
    "fig1, ax = plt.subplots(1,1)\n",
    "ax.step(x,y,'.-g',where='post')\n",
    "ax.hlines(0,-3,x.min(),'g')\n",
    "ax.hlines(1,x.max(),4,'g')\n",
    "ax.vlines(x.min(),0,y.min(),'g')\n",
    "ax.set_title('ECDF')\n",
    "ax.set_xlabel('x')\n",
    "ax.set_ylabel('F(x)')"
   ]
  },
  {
   "cell_type": "markdown",
   "metadata": {},
   "source": [
    "***1-2)*** "
   ]
  },
  {
   "cell_type": "code",
   "execution_count": 3,
   "metadata": {
    "hide_input": true
   },
   "outputs": [
    {
     "data": {
      "image/png": "[encoded data removed]",
      "text/plain": [
       "<Figure size 432x288 with 1 Axes>"
      ]
     },
     "execution_count": 3,
     "metadata": {},
     "output_type": "execute_result"
    }
   ],
   "source": [
    "ax.hlines(7/9, -3, 2, ls='dashed')\n",
    "ax.vlines(2, 0, 7/9, ls='dashed')\n",
    "ax.autoscale(axis='both',tight=True)\n",
    "fig1"
   ]
  },
  {
   "cell_type": "markdown",
   "metadata": {},
   "source": [
    "$\\hat{Pr}(X\\le2)=\\frac{7}{9}$"
   ]
  },
  {
   "cell_type": "markdown",
   "metadata": {},
   "source": [
    "***1-3)*** <br>"
   ]
  },
  {
   "cell_type": "markdown",
   "metadata": {},
   "source": [
    "$Pr(X\\le2)=E[I(X\\le2)]$이므로 $Y=I(X\\le2)$로 정의하면 $Y$는 표본을 뽑는 시행을 했을 때, 그 값이 $2$ 이하인지 초과인지에 대한 베르누이 확률변수이며 0과 1을 값으로 취한다. 따라서 $P(X\\le 2)=P(Y=1)=p$라고 하면, $Y\\sim Bernoulli(p)$. 그러므로 $Pr(X\\le2)=0.5$를 검정하는 것은 베르누이 분포의 모수인 $p$가 0.5인지 검정하는 것과 동일하다. 이에 따라서 검정을 시행한 결과는 아래와 같다. "
   ]
  },
  {
   "cell_type": "markdown",
   "metadata": {},
   "source": [
    "$H_0: p=0.5$ vs $H_1: p\\neq0.5$<br>\n",
    "새로 정의한 $Y$는 아래와 같다."
   ]
  },
  {
   "cell_type": "code",
   "execution_count": 137,
   "metadata": {
    "hide_input": true
   },
   "outputs": [
    {
     "name": "stdout",
     "output_type": "stream",
     "text": [
      "[1 1 1 1 1 1 1 0 0]\n"
     ]
    }
   ],
   "source": [
    "y_new = x<=2\n",
    "print(y_new.astype(int)) # Y"
   ]
  },
  {
   "cell_type": "markdown",
   "metadata": {},
   "source": [
    "검정통계량 $\\sum{Y_i}\\sim^{under H_0}Bin(9,0.5)$ "
   ]
  },
  {
   "cell_type": "markdown",
   "metadata": {},
   "source": [
    "$\\sum{Y_i}=7$이므로 p-value는:"
   ]
  },
  {
   "cell_type": "code",
   "execution_count": 182,
   "metadata": {
    "hide_input": true
   },
   "outputs": [
    {
     "name": "stdout",
     "output_type": "stream",
     "text": [
      "0.039\n"
     ]
    }
   ],
   "source": [
    "from scipy.stats import binom\n",
    "p = 2*binom.sf(7,9,0.5)\n",
    "print(p.round(3))"
   ]
  },
  {
   "cell_type": "markdown",
   "metadata": {},
   "source": [
    "p-value가 유의수준 0.05보다 작으므로 귀무가설을 기각한다. 따라서 $p\\neq0.5$"
   ]
  },
  {
   "cell_type": "markdown",
   "metadata": {},
   "source": [
    "***2-1)*** "
   ]
  },
  {
   "cell_type": "code",
   "execution_count": 160,
   "metadata": {
    "hide_input": true
   },
   "outputs": [],
   "source": [
    "x=np.array([4.12,-0.68,0.19,1.11,0.37,1.16,-3.65,0.03,0.81,0.03])\n",
    "x.sort()\n",
    "y=np.linspace(start=1/len(x),stop=1,num=len(x))"
   ]
  },
  {
   "cell_type": "code",
   "execution_count": 162,
   "metadata": {
    "hide_input": true
   },
   "outputs": [
    {
     "data": {
      "image/png": "[encoded data removed]",
      "text/plain": [
       "<Figure size 432x288 with 1 Axes>"
      ]
     },
     "metadata": {
      "needs_background": "light"
     },
     "output_type": "display_data"
    }
   ],
   "source": [
    "plt.step(x,y,'.-g',where='post')\n",
    "plt.hlines(0,math.floor(x.min()),x.min(),'g')\n",
    "plt.hlines(1,x.max(),math.ceil(x.max()),'g')\n",
    "plt.vlines(x.min(),0,y.min(),'g')\n",
    "plt.title('ECDF')\n",
    "plt.xlabel('x')\n",
    "plt.ylabel('F(x)')\n",
    "plt.show()"
   ]
  },
  {
   "cell_type": "markdown",
   "metadata": {},
   "source": [
    "경험분포함수의 단점은 아래와 같다.\n",
    "1. 표본의 수가 작을 경우, tail부분에 대한 확률이 정확하지 않다.\n",
    "2. 원래의 cdf는 연속형이지만 경험분포함수는 이산형이다.\n",
    "3. 경험분포함수의 미분이 잘 정의되지 않는다."
   ]
  },
  {
   "cell_type": "markdown",
   "metadata": {},
   "source": [
    "***2-2)*** "
   ]
  },
  {
   "cell_type": "markdown",
   "metadata": {},
   "source": [
    "새로운 변수 $Y$를 $I(X\\le0)$으로 정의하자. $Y$는 다음과 같다."
   ]
  },
  {
   "cell_type": "code",
   "execution_count": 164,
   "metadata": {
    "hide_input": true
   },
   "outputs": [
    {
     "name": "stdout",
     "output_type": "stream",
     "text": [
      "[1 1 0 0 0 0 0 0 0 0]\n"
     ]
    }
   ],
   "source": [
    "y_new = x <= 0\n",
    "print(y_new.astype(int))"
   ]
  },
  {
   "cell_type": "markdown",
   "metadata": {},
   "source": [
    "$F(0)=E(I(X\\le0)]=E(Y)$이므로 $F(0)$의 추정량은 $\\bar{Y}$이다. 따라서 $\\hat{F(0)}=\\bar{Y}=0.2$로 구할 수 있으며, 표준오차는 $\\sqrt{V(\\bar{Y})}=\\sqrt{\\frac{p(1-p)}{n}}\\approx\\sqrt{\\frac{\\bar{Y}(1-\\bar{Y})}{n}}\\approx0.126$"
   ]
  },
  {
   "cell_type": "markdown",
   "metadata": {},
   "source": [
    "$H_0:F(0)=0.5$ vs $H_1:F(0)\\ne0.5$<br>\n",
    "귀무가설이 참일 때, 검정통계량 $\\sum{Y_i}\\sim Bin(10,0.5)$<br>\n",
    "$\\sum{Y_i}=2$이므로 p-value는:"
   ]
  },
  {
   "cell_type": "code",
   "execution_count": 181,
   "metadata": {
    "hide_input": true
   },
   "outputs": [
    {
     "name": "stdout",
     "output_type": "stream",
     "text": [
      "0.109\n"
     ]
    }
   ],
   "source": [
    "from scipy.stats import binom\n",
    "p = 2*binom.cdf(2,10,0.5)\n",
    "print(p.round(3))"
   ]
  },
  {
   "cell_type": "markdown",
   "metadata": {},
   "source": [
    "p-value가 유의수준 0.05보다 크므로 귀무가설을 기각하지 못한다. 따라서 $p=0.5$"
   ]
  },
  {
   "cell_type": "markdown",
   "metadata": {},
   "source": [
    "***2-4)*** <br>\n",
    "$V(exp(X))$를 대략적으로 추정한 값은 다음과 같다."
   ]
  },
  {
   "cell_type": "code",
   "execution_count": 180,
   "metadata": {
    "hide_input": true
   },
   "outputs": [
    {
     "name": "stdout",
     "output_type": "stream",
     "text": [
      "325.318\n"
     ]
    }
   ],
   "source": [
    "var = np.exp(x).var()\n",
    "print(var.round(3))"
   ]
  },
  {
   "cell_type": "markdown",
   "metadata": {},
   "source": [
    "n이 커져도 $X$는 $\\mu$로 근사가 되지 않기 때문에 $\\mu$에 대한 테일러 정리를 통해 $exp(X)$를 근사시키는 방법은 옳지 않다."
   ]
  },
  {
   "cell_type": "markdown",
   "metadata": {},
   "source": [
    "***2-5)*** \n",
    "<br> $V(exp(\\bar{X}))$를 붓스트랩을 이용하여 추정하기 위한 Python 코드는 다음과 같다."
   ]
  },
  {
   "cell_type": "code",
   "execution_count": 187,
   "metadata": {
    "scrolled": true
   },
   "outputs": [
    {
     "name": "stdout",
     "output_type": "stream",
     "text": [
      "1.097\n"
     ]
    }
   ],
   "source": [
    "B = 10000\n",
    "result = []\n",
    "for i in range(B):\n",
    "    temp = np.random.choice(x,len(x)) # with replacement\n",
    "    result.append(np.exp(temp.mean())) \n",
    "result = np.array(result)\n",
    "var = result.var()\n",
    "print(var.round(3))"
   ]
  },
  {
   "cell_type": "markdown",
   "metadata": {},
   "source": [
    "***4-1)***<br>\n",
    "확률변수 $X$를 실패한 횟수라고 정의하면, $X\\sim Bin(287,p)$이다. $X=2$라는 표본을 얻었으므로 $p$에 대한 95% 신뢰구간의 하한$(p_L)$과 상한$(p_U)$은 $Pr(X\\ge 2|p=p_L)=0.025$, $Pr(X\\le 2|p=p_U)=0.025$의 식을 통해 구할 수 있다. "
   ]
  },
  {
   "cell_type": "code",
   "execution_count": 42,
   "metadata": {},
   "outputs": [
    {
     "name": "stdout",
     "output_type": "stream",
     "text": [
      "0.02527033809178625 0.025252292569203694\n"
     ]
    }
   ],
   "source": [
    "from scipy.stats import binom\n",
    "print(1-binom.cdf(1,287,0.00085), binom.cdf(2,287,0.0249))"
   ]
  },
  {
   "cell_type": "markdown",
   "metadata": {},
   "source": [
    "95% 신뢰구간은 (0.0008,0.0249)로 구할 수 있다."
   ]
  },
  {
   "cell_type": "markdown",
   "metadata": {},
   "source": [
    "***4-2)*** <br>\n",
    "확률변수 $X\\sim Bin(n,p)$를 정규분포로 근사시키면 $X\\sim N(np,np(1-p))$가 되고 따라서 $\\frac{X}{n}\\sim N(p,\\frac{p(1-p)}{n})$이 된다. 그러므로 $n=287, X=2$라는 표본을 얻었을 때, $p$에 대한 95% 근사 신뢰구간은 $\\left(\\frac{2}{287}\\pm1.96\\sqrt{\\frac{(2/287)(285/287)}{287}}\\right)\\approx(-0.0027,0.0166)$로 얻을 수 있다."
   ]
  },
  {
   "cell_type": "code",
   "execution_count": 49,
   "metadata": {},
   "outputs": [
    {
     "name": "stdout",
     "output_type": "stream",
     "text": [
      "[-0.0027  0.0166]\n"
     ]
    }
   ],
   "source": [
    "import numpy as np\n",
    "x=np.array([(2/287)-1.96*(np.sqrt((2/287)*(285/287)/287)),(2/287)+1.96*(np.sqrt((2/287)*(285/287)/287))])\n",
    "print(x.round(4))"
   ]
  },
  {
   "cell_type": "markdown",
   "metadata": {},
   "source": [
    "***4-3)*** <br>\n",
    "$p$에 대한 신뢰구간을 바로 구하는 것이 아닌 $log(\\frac{p}{1-p})$에 대한 신뢰구간을 구한 후, $p$에 대해 정리하면 된다. 그 이유는 $p$와 달리 $log(\\frac{p}{1-p})$는 $-\\infty$부터 $\\infty$까지의 값을 갖으며 $p$를 0과 1 사이의 값을 갖도록 하기 때문이다."
   ]
  },
  {
   "cell_type": "markdown",
   "metadata": {},
   "source": [
    "***6)*** <br>\n",
    "평균 등수가 아니라 평균 성적에 의해 등급이 책정되기 때문에 잘못된 생각이다. "
   ]
  },
  {
   "cell_type": "markdown",
   "metadata": {},
   "source": [
    "***7-1)*** "
   ]
  },
  {
   "cell_type": "code",
   "execution_count": 50,
   "metadata": {
    "hide_input": true
   },
   "outputs": [
    {
     "data": {
      "text/plain": [
       "<AxesSubplot:xlabel='timeline'>"
      ]
     },
     "execution_count": 50,
     "metadata": {},
     "output_type": "execute_result"
    },
    {
     "data": {
      "image/png": "[encoded data removed]",
      "text/plain": [
       "<Figure size 432x288 with 1 Axes>"
      ]
     },
     "metadata": {
      "needs_background": "light"
     },
     "output_type": "display_data"
    }
   ],
   "source": [
    "from lifelines import KaplanMeierFitter \n",
    "x = [3,3,5,6,7,10]\n",
    "d1 = [1,1,1,0,1,1]\n",
    "d2 = [1,1,1,0,1,0]\n",
    "\n",
    "kmf = KaplanMeierFitter()\n",
    "kmf.fit(x,d1,label='Kaplan Meier Estimate')\n",
    "kmf.plot(ci_show=False)"
   ]
  },
  {
   "cell_type": "markdown",
   "metadata": {},
   "source": [
    "$\\int_0^\\infty S_n(x) dx=3\\times1+2\\times2/3+2\\times1/2+3\\times1/4=73/12$"
   ]
  },
  {
   "cell_type": "markdown",
   "metadata": {},
   "source": [
    "***7-2)***"
   ]
  },
  {
   "cell_type": "code",
   "execution_count": 55,
   "metadata": {
    "hide_input": true
   },
   "outputs": [
    {
     "data": {
      "text/plain": [
       "(0.0, 1.1)"
      ]
     },
     "execution_count": 55,
     "metadata": {},
     "output_type": "execute_result"
    },
    {
     "data": {
      "image/png": "[encoded data removed]",
      "text/plain": [
       "<Figure size 432x288 with 1 Axes>"
      ]
     },
     "metadata": {
      "needs_background": "light"
     },
     "output_type": "display_data"
    }
   ],
   "source": [
    "kmf = KaplanMeierFitter()\n",
    "kmf.fit(x,d2,label='Kaplan Meier Estimate')\n",
    "p=kmf.plot(ci_show=False)\n",
    "p.set_ylim((0,1.1))"
   ]
  },
  {
   "cell_type": "markdown",
   "metadata": {},
   "source": [
    "$\\int_0^\\infty S_n(x) dx=\\infty$"
   ]
  },
  {
   "cell_type": "markdown",
   "metadata": {},
   "source": []
  },
  {
   "cell_type": "markdown",
   "metadata": {},
   "source": [
    "# 3장 연습문제"
   ]
  },
  {
   "cell_type": "markdown",
   "metadata": {},
   "source": [
    "***2)*** <br>\n",
    "갑돌이의 추정량 (D): $D=\\frac{\\sum_{i=1}^n(x_i-\\bar{x})^2}{n-1}=\\frac{\\sum_{i=1}^n x_i^2-n\\bar{x}^2}{n-1}$ <br>\n",
    "따라서, 갑순이의 추정량 (S): $S=\\frac{n-1}{n}\\times D$"
   ]
  },
  {
   "cell_type": "markdown",
   "metadata": {},
   "source": [
    "***3-1) pearson 상관계수*** <br>"
   ]
  },
  {
   "cell_type": "code",
   "execution_count": 1,
   "metadata": {},
   "outputs": [
    {
     "data": {
      "text/plain": [
       "(0.9949208513190317, 2.8939583635004517e-09)"
      ]
     },
     "execution_count": 1,
     "metadata": {},
     "output_type": "execute_result"
    }
   ],
   "source": [
    "from scipy import stats\n",
    "x = [870,1210,780,2300,430,1100,80,923,3200,1700]\n",
    "y = [840,1340,790,2160,470,1250,97,989,3300,1870]\n",
    "stats.pearsonr(x,y)"
   ]
  },
  {
   "cell_type": "markdown",
   "metadata": {},
   "source": [
    "***3-2) 순위상관계수*** "
   ]
  },
  {
   "cell_type": "code",
   "execution_count": 2,
   "metadata": {},
   "outputs": [
    {
     "data": {
      "text/plain": [
       "SpearmanrResult(correlation=0.9999999999999999, pvalue=6.646897422032013e-64)"
      ]
     },
     "execution_count": 2,
     "metadata": {},
     "output_type": "execute_result"
    }
   ],
   "source": [
    "stats.spearmanr(x,y)"
   ]
  },
  {
   "cell_type": "markdown",
   "metadata": {},
   "source": [
    "***3-3) kendall 상관계수***"
   ]
  },
  {
   "cell_type": "code",
   "execution_count": 3,
   "metadata": {},
   "outputs": [
    {
     "data": {
      "text/plain": [
       "KendalltauResult(correlation=0.9999999999999999, pvalue=5.511463844797178e-07)"
      ]
     },
     "execution_count": 3,
     "metadata": {},
     "output_type": "execute_result"
    }
   ],
   "source": [
    "stats.kendalltau(x,y)"
   ]
  },
  {
   "cell_type": "markdown",
   "metadata": {},
   "source": [
    "인센티브 시행 전 사용액이 많은 고객이 인센티브 시행 후 사용액도 많다."
   ]
  },
  {
   "cell_type": "markdown",
   "metadata": {},
   "source": [
    "***4-1)*** <br>\n",
    "KIS와 KCB 각 신용평가사들의 평가 결과는 임의로 추출된 동일한 100개의 회사에 대해서 평가한 결과이다. 따라서 KIS의 평가 대상 집단과 KCB의 평가 대상 집단이 독립이 아니므로 두 집단의 독립을 가정으로 하는 Chi-square 검정은 적절하지 않다. <br>"
   ]
  },
  {
   "cell_type": "markdown",
   "metadata": {},
   "source": [
    "***4-2)*** <br>\n",
    "각 신용평가사의 A등급을 내리는 확률이 같은지 검정하기 위해서는 각 회사 별로 (KIS의 평가, KCB의 평가)와 같은 데이터가 필요하다. 이 데이터를 통해 새로운 분할표를 만들어 McNemar 검정통계량을 이용해 검정하는 방법이 있다. "
   ]
  },
  {
   "cell_type": "markdown",
   "metadata": {},
   "source": [
    "***5)*** <br>\n",
    "카이제곱 검정의 대립가설은 \"폐암여부와 흡연정도는 독립이 아니다\"인 반면, 상관계수가 0인지 검정하는 검정의 대립가설은 \"$\\rho\\neq0$\"이기 때문이다. 일반적으로 독립인 두 변수의 상관계수는 0이지만 상관계수가 0인 두 변수는 독립이 아닐 수 있다. 따라서 상관계수가 0인지 검정의 귀무가설을 기각하더라도 카이제곱 검정의 귀무가설을 기각하지 않을 수 있다."
   ]
  },
  {
   "cell_type": "markdown",
   "metadata": {},
   "source": [
    "***7-1) T-test*** <br>\n",
    "평가점수 각각이 독립이고 정규분포를 따르며, 각 와인 종류의 집단이 등분산성을 만족한다고 가정하자."
   ]
  },
  {
   "cell_type": "code",
   "execution_count": 14,
   "metadata": {},
   "outputs": [
    {
     "data": {
      "text/plain": [
       "Ttest_indResult(statistic=2.9943428710419493, pvalue=0.01035088899903829)"
      ]
     },
     "execution_count": 14,
     "metadata": {},
     "output_type": "execute_result"
    }
   ],
   "source": [
    "import numpy as np\n",
    "from scipy import stats\n",
    "A = [6.4, 6.8, 7.2, 8.3, 8.4, 9.1, 9.4, 9.7]\n",
    "B = [2.5, 3.7, 4.9, 5.4, 5.9, 8.1, 8.2]\n",
    "stats.ttest_ind(A, B)"
   ]
  },
  {
   "cell_type": "markdown",
   "metadata": {},
   "source": [
    "P-value가 유의수준인 0.05보다 작으므로 귀무가설을 기각한다. 따라서 와인 A와 B의 평가에 차이가 존재한다."
   ]
  },
  {
   "cell_type": "markdown",
   "metadata": {},
   "source": [
    "***7-2)*** <br>"
   ]
  },
  {
   "cell_type": "code",
   "execution_count": 17,
   "metadata": {},
   "outputs": [
    {
     "name": "stdout",
     "output_type": "stream",
     "text": [
      "             df     sum_sq    mean_sq         F    PR(>F)\n",
      "treatment   2.0  43.911012  21.955506  6.256975  0.008649\n",
      "Residual   18.0  63.161369   3.508965       NaN       NaN\n"
     ]
    }
   ],
   "source": [
    "from statsmodels.formula.api import ols \n",
    "from statsmodels.stats.anova import anova_lm\n",
    "import pandas as pd\n",
    "C = [1.3, 4.1, 4.9, 5.2, 5.5, 8.3]\n",
    "value = A + B + C\n",
    "treat = ['1']*len(A)+['2']*len(B)+['3']*len(C)\n",
    "df = pd.DataFrame(data = {'value':value, 'treatment':treat})\n",
    "mod = ols('value~treatment',df).fit()\n",
    "print(anova_lm(mod))"
   ]
  },
  {
   "cell_type": "markdown",
   "metadata": {},
   "source": [
    "***7-3)*** <br>"
   ]
  },
  {
   "cell_type": "code",
   "execution_count": 18,
   "metadata": {},
   "outputs": [
    {
     "name": "stdout",
     "output_type": "stream",
     "text": [
      "             df     sum_sq    mean_sq         F    PR(>F)\n",
      "treatment   2.0  45.006905  22.503452  6.514073  0.007441\n",
      "Residual   18.0  62.182619   3.454590       NaN       NaN\n"
     ]
    }
   ],
   "source": [
    "A_new = [6.7, 6.8, 7.2, 8.3, 8.4, 9.1, 9.4, 9.7]\n",
    "value = A_new + B + C\n",
    "treat = ['1']*len(A_new)+['2']*len(B)+['3']*len(C)\n",
    "df = pd.DataFrame(data = {'value':value, 'treatment':treat})\n",
    "mod = ols('value~treatment',df).fit()\n",
    "print(anova_lm(mod))"
   ]
  },
  {
   "cell_type": "markdown",
   "metadata": {},
   "source": [
    "***8)*** <br>"
   ]
  },
  {
   "cell_type": "code",
   "execution_count": 35,
   "metadata": {},
   "outputs": [
    {
     "name": "stdout",
     "output_type": "stream",
     "text": [
      "            df  sum_sq     mean_sq         F    PR(>F)\n",
      "treatment  1.0    51.2   51.200000  0.230654  0.642497\n",
      "block      9.0  4549.8  505.533333  2.277405  0.118019\n",
      "Residual   9.0  1997.8  221.977778       NaN       NaN\n"
     ]
    }
   ],
   "source": [
    "mid = [50,71,75,72,93,80,82,90,95,42]\n",
    "fin = [86,68,90,30,100,70,87,88,96,67]\n",
    "\n",
    "value = mid + fin\n",
    "treatment = ['A']*len(mid)+['B']*len(fin)\n",
    "block = [*range(1,len(mid)+1)]+[*range(1,len(fin)+1)]\n",
    "\n",
    "block = list(map(str,block))\n",
    "df = pd.DataFrame(data = {'value':value, 'treatment':treatment, 'block':block})\n",
    "model = ols('value~treatment+block',df).fit()\n",
    "print(anova_lm(model))"
   ]
  },
  {
   "cell_type": "markdown",
   "metadata": {},
   "source": [
    "***9-1)*** <br>"
   ]
  },
  {
   "cell_type": "code",
   "execution_count": 40,
   "metadata": {},
   "outputs": [
    {
     "name": "stdout",
     "output_type": "stream",
     "text": [
      "             df      sum_sq   mean_sq         F    PR(>F)\n",
      "treatment   2.0    1.486667  0.743333  0.131756  0.877393\n",
      "Residual   18.0  101.551429  5.641746       NaN       NaN\n"
     ]
    }
   ],
   "source": [
    "A = [2.4, 5.8, 4.2, 6.3, 6.4, 8.1, 9.4]\n",
    "B = [2.5, 3.7, 4.9, 5.4, 5.9, 8.1, 8.2]\n",
    "C = [1.3, 4.1, 4.9, 5.2, 5.5, 8.3, 9.3]\n",
    "value = A + B + C\n",
    "treatment = ['1']*len(A)+['2']*len(B)+['3']*len(C)\n",
    "df = pd.DataFrame(data = {'value':value, 'treatment':treatment})\n",
    "model = ols('value~treatment',df).fit()\n",
    "print(anova_lm(model))"
   ]
  },
  {
   "cell_type": "markdown",
   "metadata": {},
   "source": [
    "***9-2)***"
   ]
  },
  {
   "cell_type": "code",
   "execution_count": 41,
   "metadata": {},
   "outputs": [
    {
     "name": "stdout",
     "output_type": "stream",
     "text": [
      "             df     sum_sq    mean_sq          F        PR(>F)\n",
      "treatment   2.0   1.486667   0.743333   2.113744  1.635233e-01\n",
      "block       6.0  97.331429  16.221905  46.128639  1.340992e-07\n",
      "Residual   12.0   4.220000   0.351667        NaN           NaN\n"
     ]
    }
   ],
   "source": [
    "block = [*range(1,len(A)+1)]*3\n",
    "block = list(map(str,block))\n",
    "df = pd.DataFrame(data = {'value':value, 'treatment':treatment, 'block':block})\n",
    "model = ols('value~treatment+block',df).fit()\n",
    "print(anova_lm(model))"
   ]
  },
  {
   "cell_type": "markdown",
   "metadata": {},
   "source": [
    "***9-3)*** <br>\n",
    "RBD 세팅이 CRD 세팅보다 더 많은 정보를 가지고 있으므로 RBD 실험이 더 낫다."
   ]
  },
  {
   "cell_type": "markdown",
   "metadata": {},
   "source": []
  },
  {
   "cell_type": "markdown",
   "metadata": {},
   "source": [
    "# 4장 연습문제"
   ]
  },
  {
   "cell_type": "markdown",
   "metadata": {},
   "source": [
    "***1)*** <br>\n",
    "5개의 표본을 3개 2개의 두 집단으로 나눌 수 있는 경우의 수는 $C_{5,3}=10$가지이다. 여기서 표본이 2개이 집단의 rank의 합이 3일 확률은 표본 두 개의 rank가 각각 $1$과 $2$인 $1$가지 경우 밖에 없으므로 확률은 $1/10$이다."
   ]
  },
  {
   "cell_type": "markdown",
   "metadata": {},
   "source": [
    "***2-1)*** <br>\n",
    "$Pr(T\\ge 3)=Pr(T=3)+Pr(T=4)=\\frac{C_{4,3}\\times C_{4,1}}{C_{8,4}}+\\frac{C_{4,4}\\times C_{4,0}}{C_{8,4}}=0.243.$ 즉 4명 중 1명은 3개 이상 맞춘다. 따라서 귀부인은 특별한 능력을 갖고 있지 않다."
   ]
  },
  {
   "cell_type": "markdown",
   "metadata": {},
   "source": [
    "***2-2)*** <br>\n",
    "Lemma1. $kC_{r,k}=rC_{r-1,k-1}.$ <br>\n",
    "$E(X)=\\sum_{k=0}^r kP(X=k)=\\sum_{k=1}^r k\\frac{C_{r,k}C_{N-r,c-k}}{C_{N,c}}=\\frac{rc}{N}\\sum_{k=1}^r\\frac{C_{r-1,k-1}C_{N-r,c-k}}{C_{N-1,c-1}}$<br>\n",
    "$=\\frac{rc}{N}\\sum_{k=0}^{r-1}\\frac{C_{r-1,k}C_{N-r,c-k-1}}{C_{N-1,c-1}}=\\frac{rc}{N}.$ <br><br>\n",
    "Lemma2. $k(k-1)C_{r,k}=r(r-1)C_{r-2,k-2}.$ <br>\n",
    "$E(X(X-1))=\\sum_{k=0}^r k(k-1)P(X=k)=\\frac{r(r-1)c(c-1)}{N(N-1)}$\n",
    "$Var(X)=E(X^2)-(E(X))^2=E(X(X-1))+E(X)(1-E(X))=\\frac{rc(N-r)(N-c)}{N^2(N-1)}.$"
   ]
  },
  {
   "cell_type": "markdown",
   "metadata": {},
   "source": [
    "***2-3)*** <br>\n",
    "row1, row2 집단 내 수가 각각 $r, N-r$로 정해져있으므로 Col1에 속할 확률을 집단 별로 각각 $p1, p2$라고 할 때, Col1에 속하는 개수는 이항분포를 따른다. 따라서 $X1\\sim Bin(r,p1)$, $X2\\sim Bin(r,p2)$. $r$과 $N-r$의 수가 큰 경우에 이항분포는 정규분포로 근사시킬 수 있으므로 $\\frac{X1}{r}\\sim N(p1,\\frac{c(N-c)}{rN^2})$, $\\frac{X2}{N-r}\\sim N(p2,\\frac{c(N-c)}{(N-r)N^2})$. $X1$과 $X2$는 독립이라는 가정 하에서 $\\frac{X1}{r}-\\frac{X2}{N-r}\\sim N(p1-p2,\\frac{c(N-c)}{rN^2}+\\frac{c(N-c)}{(N-r)N^2})$. 따라서 $T1=\\frac{\\frac{X1}{r}-\\frac{X2}{N-r}}{\\sqrt{\\frac{c(N-c)}{rN^2}+\\frac{c(N-c)}{(N-r)N^2}}}=\\frac{x-\\frac{rc}{N}}{\\sqrt{\\frac{rc(N-r)(N-c)}{N^3}}}.$ <br>\n",
    "$T1$과 $T2$ 모두 표준정규분포를 따르는 통계량이지만 $T1>T2$임을 알 수 있다. 따라서 구해지는 p-value는 $T1$의 경우가 $T2$의 경우보다 작을 것이다."
   ]
  },
  {
   "cell_type": "markdown",
   "metadata": {},
   "source": [
    "***5-1)***"
   ]
  },
  {
   "cell_type": "code",
   "execution_count": 1,
   "metadata": {},
   "outputs": [
    {
     "data": {
      "text/plain": [
       "KruskalResult(statistic=8.671717874934243, pvalue=0.013090625214185567)"
      ]
     },
     "execution_count": 1,
     "metadata": {},
     "output_type": "execute_result"
    }
   ],
   "source": [
    "from scipy import stats\n",
    "A = [6.4, 6.8, 7.2, 8.3, 8.4, 9.1, 9.4, 9.7]\n",
    "B = [2.5, 3.7, 4.9, 5.4, 5.9, 8.1, 8.2]\n",
    "C = [1.3, 4.1, 4.8, 5.2, 5.5, 9.1]\n",
    "stats.kruskal(A, B, C)"
   ]
  },
  {
   "cell_type": "markdown",
   "metadata": {},
   "source": [
    "p-value가 0.05보다 작으므로 귀무가설을 기각한다. 따라서 세 와인 간 평가에 차이가 있다."
   ]
  },
  {
   "cell_type": "markdown",
   "metadata": {},
   "source": [
    "***5-2)*** <br>\n",
    "6.4가 6.7로 바꾼다고 해서 전체에 대한 표본 값의 등수는 변함이 없다. 따라서 5-1) 결과와 같은 검정통계량 값을 얻을 것이다."
   ]
  },
  {
   "cell_type": "markdown",
   "metadata": {},
   "source": []
  },
  {
   "cell_type": "markdown",
   "metadata": {},
   "source": [
    "# 5장 연습문제\n"
   ]
  },
  {
   "cell_type": "markdown",
   "metadata": {},
   "source": [
    "***3-1)*** <br>\n",
    "$H_0: P(X=0)=P(X=0)$ <br>\n",
    "$T_1=\\frac{(20-10)^2}{20+10}=10/3$ <br>\n",
    "Under $H_0$ is true, $T_1\\sim\\chi^2(1)$. <br>\n",
    "p-value는 다음과 같이 계산된다."
   ]
  },
  {
   "cell_type": "code",
   "execution_count": 2,
   "metadata": {},
   "outputs": [
    {
     "data": {
      "text/plain": [
       "0.06788915486182893"
      ]
     },
     "execution_count": 2,
     "metadata": {},
     "output_type": "execute_result"
    }
   ],
   "source": [
    "from scipy import stats\n",
    "stats.chi2.sf(10/3,1)"
   ]
  },
  {
   "cell_type": "markdown",
   "metadata": {},
   "source": [
    "p-value가 0.05보다 크므로 귀무가설을 기각하지 못한다. 따라서 신약 효과 간의 차이가 없다."
   ]
  },
  {
   "cell_type": "markdown",
   "metadata": {},
   "source": [
    "***3-2)***<br>\n",
    "$T=\\frac{\\bar{D}}{\\sqrt{V(D)}}=\\frac{\\frac{b}{n}-\\frac{c}{n}}{\\sqrt{\\frac{1}{n}\\left(\\frac{b}{n}+\\frac{c}{n}\\right)}}=\\frac{b-c}{\\sqrt{b+c}}=\\frac{10}{\\sqrt{30}}.$ 따라서 $T^2=T_1$이라는 관계식이 성립한다."
   ]
  },
  {
   "cell_type": "markdown",
   "metadata": {},
   "source": [
    "***4-1)*** <br>\n",
    "신약 A 집단과 신약 B 집단은 같은 환자들로 구성되어 있으므로 두 집단은 독립이 아니다. 따라서 두 집단의 독립을 가정하는 카이제곱검정은 적절하지 않다."
   ]
  },
  {
   "cell_type": "markdown",
   "metadata": {},
   "source": [
    "***4-2)***<br>\n",
    "종속적인 두 집단에 대한 다음과 같은 $2\\times 2$ 분할표에서 카이제곱 검정계량은 신약 A 변수와 신약 B 변수의 선형적인 관련성 정도를 나타낸다.\n"
   ]
  },
  {
   "cell_type": "markdown",
   "metadata": {},
   "source": [
    "***5-1)*** <br>\n",
    "sign test의 검정통계량 T는 모든 tied pair을 제외한 $X_i>Y_i$인 pair의 개수이므로 $T=b$이다. 이 때, n은 모든 tied pair을 제외한 pair의 개수이므로 $n=b+c$이다. 따라서 $b\\sim N(\\frac{b+c}{2}, \\frac{b+c}{4})$이며 표준화하면 $\\frac{b-\\frac{b+c}{2}}{\\sqrt{(b+c)/4}}\\sim N(0,1)$이므로 $\\left(\\frac{b-\\frac{b+c}{2}}{\\sqrt{(b+c)/4}}\\right)^2=\\frac{(b-c)^2}{b+c}$. "
   ]
  },
  {
   "cell_type": "markdown",
   "metadata": {},
   "source": [
    "***6)*** <br>\n",
    "Cochran Q 검정통계량은 $Q=\\frac{c(c-1)\\sum_{j=1}^c(C_j-\\frac{N}{c})^2}{\\sum_{i=1}^r R_i(c-R_i)}$ 이므로 $c=3, N=9, C1=4, C2=3, C3=2$를 대입하면 $Q=\\frac{6[(4-3)^2+(3-3)^2+(2-3)^2]}{\\sum_{i=1}^r R_i(3-R_i)}$이다. 따라서 분자는 상수로 고정되어있으므로 $Q$값을 가장 크게 만들기 위해서는 분모에 해당하는 $\\sum_{i=1}^r R_i(3-R_i)$값이 가장 작아져야 한다. 각 $i$ 마다 $R_i$가 3인 경우 0이 되므로 전문가 C가 맞추는 2가지 경우에 전문가 A, B도 모두 맞춰야하며 $R_i$가 0인 경우 역시 0이 되므로 나머지 전문가 B가 맞추는 한 가지 경우에 전문가 A도 맞춰야한다. "
   ]
  },
  {
   "cell_type": "markdown",
   "metadata": {},
   "source": [
    "***7-1)*** <br>\n",
    "신약 A, B, C 집단은 같은 환자 10명에 대한 임상실험 결과이므로 독립이 아니다. 따라서 카이제곱 검정으로 세 신약 간의 효과차이가 있는지 검정하는 것은 올바르지 않다."
   ]
  },
  {
   "cell_type": "markdown",
   "metadata": {},
   "source": [
    "***7-2)*** <br>\n",
    "Cochran Q 검정통계량은 $Q=\\frac{c(c-1)\\sum_{j=1}^c(C_j-\\frac{N}{c})^2}{\\sum_{i=1}^r R_i(c-R_i)}$ 이므로 $Q=\\frac{3\\bullet 2\\bullet(2^2+3^2+1^2)}{2\\bullet 7}=6.$"
   ]
  },
  {
   "cell_type": "markdown",
   "metadata": {},
   "source": [
    "***8-1)*** <br>\n",
    "$P(X=1,Y=1)=p_{11}$이라고 할 때, $A\\sim Bin(100, p_{11})$ 이므로 $P(A\\ge 50)=\\sum_{k=50}^{100}C_{100,k} (p_{11})^k (1-p_{11})^{100-k}$이다."
   ]
  },
  {
   "cell_type": "markdown",
   "metadata": {},
   "source": [
    "***8-2)*** <br>\n",
    "$X\\sim Bernoulli(p_{1+})$ where $p_{1+}:$ A 신평사로 good 평가를 받을 확률. <br>\n",
    "$Y\\sim Bernoulli(p_{+1})$ where $p_{+1}:$ B 신평사로 good 평가를 받을 확률. <br>\n",
    "$Cov(X,Y)=E(XY)-E(X)E(Y)=p_{11}-p_{1+}p_{+1}=p_{11}-(p_{11}+p_{10})(p_{11}+p_{01})=p_{00}p_{11}-p_{10}p_{01}$"
   ]
  },
  {
   "cell_type": "markdown",
   "metadata": {},
   "source": [
    "***8-3)*** <br>\n",
    "분할표에서 첫번째 행의 분포와 두번째 행의 분포가 동일하다가 귀무가설이므로 $H_0: P(X=1,Y=1)=P(X=0,Y=1)$"
   ]
  },
  {
   "cell_type": "markdown",
   "metadata": {},
   "source": [
    "***9-1)*** <br>\n",
    "    $(X,Y)$의 sample space는 $\\{(1,2),(1.5,1.5),(2,1)\\}$이다. 따라서 $\\frac{\\sum_{i=1}^n (X_i+Y_i)}{n}=\\bar{X}+\\bar{Y}=3$이다. <br> 또한 $ V(X)=\\frac{\\sum(X_i-\\bar{X})^2}{n-1}$, $V(Y)=\\frac{\\sum(Y_i-\\bar{Y})^2}{n-1}.$ <br>\n",
    "    만약 $(X,Y)=(1.5,1.5)$인 경우에는 $\\bar{X}+\\bar{Y}=3$이므로 $(X_i-\\bar{X})^2=(Y_i-\\bar{Y})^2$이다. 따라서 $(X,Y)=(1.5,1.5)$를 제외하고 살펴보면, $(X,Y)=(1,2)$를 $a$개, $(X,Y)=(2,1)$를 $n-a$개라 하면 $\\sum(X_i-\\bar{X})^2=a\\left(\\frac{-n+a}{n}\\right)^2+(n-a)\\left(\\frac{a}{n}\\right)^2$이며 $\\sum(Y_i-\\bar{Y})^2=(n-a)\\left(\\frac{-a}{n}\\right)^2+a\\left(\\frac{n-a}{n}\\right)^2$이므로 $V(X)=V(Y)$이다."
   ]
  },
  {
   "cell_type": "markdown",
   "metadata": {},
   "source": [
    "***9-2)*** <br>\n",
    "귀무가설이 참이라는 가정 하에서 $T=\\sum I(X<Y)\\sim Bin(11,1/2).$ 따라서 P-value는 $Pr(T\\ge 8)=0.03$이므로 귀무가설을 기각한다."
   ]
  },
  {
   "cell_type": "markdown",
   "metadata": {},
   "source": [
    "***9-3)*** <br>\n",
    "$T=\\sum I(X<Y)$이므로 $T=8$이다. 귀무가설이 참이라는 가정 하에서 $T\\sim N(5.5,(\\sqrt{2.75})^2)$이므로 $Z=\\frac{T-5.5}{\\sqrt{2.75}}\\sim N(0,1).$ $Z=1.5$이므로 $Z<1.96.$ 따라서 귀무가설을 기각하지 못한다. 정확한 통계량의 분포를 이용한 검정이 부호검정이므로 2)의 결과를 사용할 것이다."
   ]
  },
  {
   "cell_type": "markdown",
   "metadata": {},
   "source": [
    "***9-4)*** <br>\n",
    "\n",
    "|Source|Sum of Squares|df|\n",
    "|:-:|:-:|:-:|\n",
    "|Treatment|0.97|1|\n",
    "|Error|4.53|11|\n",
    "|Total|5.5|12|"
   ]
  },
  {
   "cell_type": "markdown",
   "metadata": {},
   "source": [
    "***9-5)*** <br>\n",
    "\n",
    "|Source|Sum of Squares|df|\n",
    "|:-:|:-:|:-:|\n",
    "|Treatment|1.16|1|\n",
    "|Error|4.34|10|\n",
    "|Total|5.5|11|\n",
    "\n",
    "<br>\n",
    "$\\frac{SST}{\\frac{TSS}{df}}=2.32$"
   ]
  },
  {
   "cell_type": "markdown",
   "metadata": {},
   "source": [
    "***9-6)*** <br>"
   ]
  },
  {
   "cell_type": "code",
   "execution_count": 41,
   "metadata": {},
   "outputs": [
    {
     "data": {
      "text/plain": [
       "8.902813299232731"
      ]
     },
     "execution_count": 41,
     "metadata": {},
     "output_type": "execute_result"
    }
   ],
   "source": [
    "import numpy as np\n",
    "A = np.array([1,1,1.5,2,1,2,1,2,1,1,1,1])\n",
    "B = np.array([2,2,1.5,1,2,1,2,1,2,2,2,2])\n",
    "new_A = A-1.5\n",
    "new_B = B-1.5\n",
    "Q = np.array([5.5,9,1,3,11,2,7,4,5.5,8,10,12])\n",
    "S1 = np.multiply(new_A,Q)\n",
    "S2 = np.multiply(new_B,Q)\n",
    "S = np.array([S1,S2])\n",
    "TSS = np.sum(S**2)\n",
    "SST = 12*(np.sum(S1/12)**2+np.sum(S2/12)**2)\n",
    "SSE = TSS - SST\n",
    "SST/(SSE/11)"
   ]
  },
  {
   "cell_type": "markdown",
   "metadata": {},
   "source": [
    "\n",
    "|Source|Sum of Squares|df|\n",
    "|:-:|:-:|:-:|\n",
    "|Treatment|145.04|1|\n",
    "|Error|179.21|11|\n",
    "|Total|324.25|12|"
   ]
  },
  {
   "cell_type": "markdown",
   "metadata": {},
   "source": [
    "***10-1)*** <br>\n",
    "Block 내 rank를 준 새로운 표는 다음과 같다.\n",
    "\n",
    "|평가회사/고객|1|2|3|4|5|6|7|8|9|10|\n",
    "|:-:|:-:|:-:|:-:|:-:|:-:|:-:|:-:|:-:|:-:|:-:|\n",
    "|A회사|1|1|1|1|1.5|1|1.5|2|1.5|1|\n",
    "|B회사|2|2|2|2|1.5|2|1.5|1|1.5|2|\n"
   ]
  },
  {
   "cell_type": "code",
   "execution_count": 68,
   "metadata": {},
   "outputs": [],
   "source": [
    "import numpy as np\n",
    "A = np.array([1,1,1,1,1.5,1,1.5,2,1.5,1])\n",
    "B = np.array([2,2,2,2,1.5,2,1.5,1,1.5,2])\n",
    "R1 = np.mean(A)\n",
    "R2 = np.mean(B)\n",
    "SST = 10*((R1-1.5)**2+(R2-1.5)**2)\n",
    "new_A = A-1.5 \n",
    "new_B = B-1.5\n",
    "D = np.array([new_A,new_B])\n",
    "TSS = np.sum(D**2)"
   ]
  },
  {
   "cell_type": "markdown",
   "metadata": {},
   "source": [
    "\n",
    "|Source|Sum of Squares|df|\n",
    "|:-:|:-:|:-:|\n",
    "|Total|3.5|10|\n",
    "|Treatment|1.25|1|\n",
    "|Error|2.25|9| \n",
    "<br>\n",
    "\n",
    "$F = \\frac{SST}{TSS/df}=3.57$"
   ]
  },
  {
   "cell_type": "markdown",
   "metadata": {},
   "source": [
    "***10-2)*** <br>\n",
    "구할 수 있다. <br>\n",
    "$F_2 = \\frac{SST/df}{SSE/df}= 0.174$"
   ]
  },
  {
   "cell_type": "code",
   "execution_count": 35,
   "metadata": {},
   "outputs": [
    {
     "data": {
      "text/plain": [
       "0.051226128298126054"
      ]
     },
     "execution_count": 35,
     "metadata": {},
     "output_type": "execute_result"
    }
   ],
   "source": [
    "from scipy import stats\n",
    "stats.f.ppf(0.174,1,9)"
   ]
  },
  {
   "cell_type": "markdown",
   "metadata": {},
   "source": [
    "***10-4)*** <br>\n",
    "\n",
    "$W^2=\\frac{SST}{TSS/10}=3.67$이므로 $\\frac{SST}{TSS}=0.367.$ 따라서 $SST=0.367\\times TSS=0.367\\times(SST+SSE)$이므로 $\\frac{SST}{SSE}=0.5797.$ <br>\n",
    "$\\therefore\\;Q=9\\times\\frac{SST}{SSE}=5.218.$"
   ]
  },
  {
   "cell_type": "markdown",
   "metadata": {},
   "source": [
    "|Source|Sum of Squares|df|\n",
    "|:-:|:-:|:-:|\n",
    "|Total|176.58|10|\n",
    "|Treatment|64.80|1|\n",
    "|Error|111.78|9|\n"
   ]
  },
  {
   "cell_type": "markdown",
   "metadata": {},
   "source": [
    "***11-1)*** <br>\n",
    "\n",
    "각 Block 마다 rank를 메겨 새로 구성한 표는 다음과 같다.\n",
    "\n",
    "|환자|1|2|3|4|5|6|7|8|9|10|\n",
    "|:-:|:-:|:-:|:-:|:-:|:-:|:-:|:-:|:-:|:-:|:-:|\n",
    "|수술 전|2|2|1.5|2|2|2|2|1.5|2|1|\n",
    "|수술 후|1|1|1.5|1|1|1|1|1.5|1|2|"
   ]
  },
  {
   "cell_type": "code",
   "execution_count": 32,
   "metadata": {
    "scrolled": true
   },
   "outputs": [
    {
     "name": "stdout",
     "output_type": "stream",
     "text": [
      "1.8 4.0\n"
     ]
    },
    {
     "data": {
      "text/plain": [
       "4.500000000000001"
      ]
     },
     "execution_count": 32,
     "metadata": {},
     "output_type": "execute_result"
    }
   ],
   "source": [
    "import numpy as np\n",
    "Before = np.array([2,2,1.5,2,2,2,2,1.5,2,1])\n",
    "After = np.array([1,1,1.5,1,1,1,1,1.5,1,2])\n",
    "SST = 10*((np.mean(Before)-1.5)**2+(np.mean(After)-1.5)**2)\n",
    "TSS = np.sum((Before-1.5)**2)+np.sum((After-1.5)**2)\n",
    "print(round(SST,3),TSS)\n",
    "SST/(TSS/10)"
   ]
  },
  {
   "cell_type": "markdown",
   "metadata": {},
   "source": [
    "|Source|Sum of Squares|df|Friedman Test|\n",
    "|:-:|:-:|:-:|:-:|\n",
    "|Total|4|10|4.5|\n",
    "|Treatment|1.8|1||\n",
    "|Error|2.2|9||"
   ]
  },
  {
   "cell_type": "markdown",
   "metadata": {},
   "source": [
    "***11-2)*** <br>\n",
    "$T\\sim Binom(8,1/2)$ 이므로 $Z=\\frac{T-4}{\\sqrt{2}}\\sim N(0,1).$ $T=7$ 이므로 $Z=\\frac{3}{\\sqrt{2}}$, $Z^2=4.5$. 따라서 Tie block을 제외하고 sign test를 실시하여야 한다."
   ]
  },
  {
   "cell_type": "markdown",
   "metadata": {},
   "source": [
    "***11-3)*** <br>\n",
    "$W^2=\\frac{SST}{TSS/10}=3.66$이므로 $\\frac{SST}{TSS}=0.366.$ 따라서 $SST=0.366\\times TSS=0.366\\times(SST+SSE)$이므로 $\\frac{SST}{SSE}=0.5773.$ <br>\n",
    "$\\therefore\\;Q=9\\times\\frac{SST}{SSE}=5.1956.$"
   ]
  },
  {
   "cell_type": "markdown",
   "metadata": {},
   "source": []
  },
  {
   "cell_type": "markdown",
   "metadata": {},
   "source": [
    "# 6장 연습문제"
   ]
  },
  {
   "cell_type": "markdown",
   "metadata": {},
   "source": [
    "***2)*** <br>\n",
    "100명의 고객에 대한 두 금융기관의 평가에 대한 자료이므로 A집단과 B집단은 독립이 아니다. 따라서 독립을 가정으로 하는 Kolmogov-Smirnov검정과 카이제곱 검정은 바람직하지 않다."
   ]
  },
  {
   "cell_type": "markdown",
   "metadata": {},
   "source": [
    "***3-1)*** <br>\n",
    "Mann-Whitney 검정은 수치형 자료에 대한 검정이므로 인사고사 점수의 범주의 중간값을 표본값으로 대체하겠다."
   ]
  },
  {
   "cell_type": "code",
   "execution_count": 4,
   "metadata": {},
   "outputs": [
    {
     "data": {
      "text/plain": [
       "MannwhitneyuResult(statistic=709.5, pvalue=0.002379606513964952)"
      ]
     },
     "execution_count": 4,
     "metadata": {},
     "output_type": "execute_result"
    }
   ],
   "source": [
    "from scipy import stats\n",
    "\n",
    "A = [10]*7+[30]*13+[50]*14+[70]*4+[90]*2 \n",
    "B = [10]*5+[30]*8+[50]*19+[70]*15+[90]*8\n",
    "\n",
    "stats.mannwhitneyu(A, B, alternative='two-sided')"
   ]
  },
  {
   "cell_type": "markdown",
   "metadata": {},
   "source": [
    "p-value가 0.05보다 작으므로 두 집단 간에 차이가 있다."
   ]
  },
  {
   "cell_type": "markdown",
   "metadata": {},
   "source": [
    "***3-2)*** <br>"
   ]
  },
  {
   "cell_type": "code",
   "execution_count": 50,
   "metadata": {},
   "outputs": [
    {
     "data": {
      "text/plain": [
       "array([ 7, 13, 14,  4,  2])"
      ]
     },
     "execution_count": 50,
     "metadata": {},
     "output_type": "execute_result"
    }
   ],
   "source": [
    "import numpy as np\n",
    "from scipy import stats\n",
    "\n",
    "data = np.array([[7,13,14,4,2], [5,8,19,15,8]])\n",
    "C = np.sum(data,axis=0)\n",
    "n = np.sum(data,axis=1)[:,np.newaxis] \n",
    "N = 95\n",
    "Edata = C*n/95 # element-wise multiplication\n",
    "np.sum((data-Edata)**2/Edata)\n",
    "data[0,]"
   ]
  },
  {
   "cell_type": "markdown",
   "metadata": {},
   "source": [
    "따라서 카이제곱검정통계량 $X=10.134 > \\chi_4^2=9.488$이므로 귀무가설을 기각한다. 따라서 두 집단은 고사점수에 대해 다른 분포를 보인다."
   ]
  },
  {
   "cell_type": "markdown",
   "metadata": {},
   "source": [
    "***3-3)*** <br>\n",
    "Kolmogorov-Smirnov 검정은 수치형 자료가 주어져야 한다. 따라서 인사고사 점수의 범주의 중간값을 표본값으로 대체하겠다."
   ]
  },
  {
   "cell_type": "code",
   "execution_count": 53,
   "metadata": {},
   "outputs": [
    {
     "data": {
      "text/plain": [
       "KstestResult(statistic=0.2681818181818182, pvalue=0.05781616995786254)"
      ]
     },
     "execution_count": 53,
     "metadata": {},
     "output_type": "execute_result"
    }
   ],
   "source": [
    "from scipy import stats\n",
    "\n",
    "A = [10]*7+[30]*13+[50]*14+[70]*4+[90]*2 \n",
    "B = [10]*5+[30]*8+[50]*19+[70]*15+[90]*8\n",
    "\n",
    "stats.kstest(A,B,alternative = 'two-sided')"
   ]
  },
  {
   "cell_type": "markdown",
   "metadata": {},
   "source": [
    "p-value가 0.05보다 크므로 귀무가설을 기각하지 못한다."
   ]
  },
  {
   "cell_type": "markdown",
   "metadata": {},
   "source": [
    "***3-4)*** <br>\n",
    "Mannwhitney 검정, 카이제곱검정, Kolmogorov-Smirnov 검정 모두 독립인 두 집단에 대하여 두 집단 간 차이가 존재하는지를 검정한다. 하지만 Mannwhitney와 Kolmogorov-Smirnov 검정은 표본 값이 정확한 수치로 주어져야 의미가 있다. 따라서 범주 vs 범주 형태의 자료에서 두 집단 간 차이가 존재하는지 알아보기 위해서 카이제곱검정이 제일 바람직하다."
   ]
  },
  {
   "cell_type": "markdown",
   "metadata": {},
   "source": [
    "***4-1)*** <br>"
   ]
  },
  {
   "cell_type": "markdown",
   "metadata": {},
   "source": [
    "자료에 rank를 준 새로운 자료는 다음과 같다.\n",
    "\n",
    "||||||||||\n",
    "|:-:|:-:|:-:|:-:|:-:|:-:|:-:|:-:|:-:|\n",
    "|경영혁신 o|2|12|15|13|6|10|11|7|\n",
    "|경영혁신 x|9|4|3|14|1|5|8||"
   ]
  },
  {
   "cell_type": "code",
   "execution_count": 88,
   "metadata": {},
   "outputs": [],
   "source": [
    "inov = [2,12,15,13,6,10,11,7]\n",
    "noni = [9,4,3,14,1,5,8]\n",
    "r1 = np.mean(inov)\n",
    "r2 = np.mean(noni)\n",
    "\n",
    "data = np.array(inov+noni)\n",
    "TSS = np.sum((data-8)**2)\n",
    "SST = 8*((r1-8)**2)+7*((r2-8)**2)\n",
    "SSE = np.sum((np.array(inov)-r1)**2)+np.sum((np.array(noni)-r2)**2)"
   ]
  },
  {
   "cell_type": "markdown",
   "metadata": {},
   "source": [
    "|Source|Sum of Squares|df|\n",
    "|:-:|:-:|:-:|\n",
    "|Treatment|38.57|1|\n",
    "|Error|241.43|13|\n",
    "|Total|280|14|"
   ]
  },
  {
   "cell_type": "markdown",
   "metadata": {},
   "source": [
    "***4-2)***"
   ]
  },
  {
   "cell_type": "code",
   "execution_count": 90,
   "metadata": {},
   "outputs": [
    {
     "data": {
      "text/plain": [
       "MannwhitneyuResult(statistic=40.0, pvalue=0.1832329769288218)"
      ]
     },
     "execution_count": 90,
     "metadata": {},
     "output_type": "execute_result"
    }
   ],
   "source": [
    "from scipy import stats\n",
    "\n",
    "A = [28, 87, 145, 110, 55, 84, 85, 67]\n",
    "B = [80, 50, 43, 121, 25, 54, 76]\n",
    "\n",
    "stats.mannwhitneyu(A, B, alternative='two-sided')"
   ]
  },
  {
   "cell_type": "markdown",
   "metadata": {},
   "source": [
    "***4-3)***"
   ]
  },
  {
   "cell_type": "code",
   "execution_count": 95,
   "metadata": {},
   "outputs": [
    {
     "data": {
      "text/plain": [
       "KstestResult(statistic=0.48214285714285715, pvalue=0.2522144522144524)"
      ]
     },
     "execution_count": 95,
     "metadata": {},
     "output_type": "execute_result"
    }
   ],
   "source": [
    "from scipy import stats\n",
    "\n",
    "A = [28, 87, 145, 110, 55, 84, 85, 67]\n",
    "B = [80, 50, 43, 121, 25, 54, 76]\n",
    "\n",
    "stats.kstest(A,B,alternative = 'two-sided')"
   ]
  },
  {
   "cell_type": "markdown",
   "metadata": {},
   "source": [
    "***5-1)*** <br>\n",
    "그래프의 꺽인 부분의 $F(x)$ 축 좌표가 $2/3$이라고 하면 $AUC=0.3\\times 2/3 + 0.7\\times 1=0.9.$"
   ]
  },
  {
   "cell_type": "markdown",
   "metadata": {},
   "source": [
    "***5-2)*** <br>\n",
    "\n",
    "$AUC = \\frac{Mann}{(n1\\times n2)}$의 관계식이 성립한다. 따라서 $Mann = n1\\times n2\\times AUC = 6\\times 7\\times 0.9 = 37.8.$"
   ]
  },
  {
   "cell_type": "markdown",
   "metadata": {},
   "source": [
    "***5-3)*** <br>\n",
    "ROC 그래프와 $y=x$ 그래프의 가장 큰 차이가 Kolmogorov-Smirnov 검정통계량이다. 따라서 $G(x)=0.3$ 일 때, 그 차이가 가장 크게되므로 $KS = 1-0.3 = 0.7.$ "
   ]
  },
  {
   "cell_type": "markdown",
   "metadata": {},
   "source": []
  },
  {
   "cell_type": "markdown",
   "metadata": {},
   "source": [
    "# 7장 연습문제"
   ]
  },
  {
   "cell_type": "markdown",
   "metadata": {},
   "source": [
    "***7-1)*** <br>\n",
    "$\\hat{f(x)}=\\frac{1}{nh}\\sum_{i=1}^n \\phi\\left(\\frac{x-x_i}{h}\\right)$ <br>\n",
    "$\\phi(\\bullet)$는 표준정규분포이다."
   ]
  },
  {
   "cell_type": "markdown",
   "metadata": {},
   "source": [
    "$h=1$일 때, $\\hat{f(x)}=\\frac{1}{3}\\sum_{i=1}^3 \\phi(x-x_i)$ 이므로 $\\hat{f(x=15)}=\\frac{1}{3}\\sum_{i=1}^3 \\phi(15-x_i)$이다. "
   ]
  },
  {
   "cell_type": "code",
   "execution_count": 3,
   "metadata": {},
   "outputs": [
    {
     "data": {
      "text/plain": [
       "0.1344580449630845"
      ]
     },
     "execution_count": 3,
     "metadata": {},
     "output_type": "execute_result"
    }
   ],
   "source": [
    "from scipy import stats\n",
    "(1/3)*(stats.norm.pdf(3,0,1)+stats.norm.pdf(0,0,1)+stats.norm.pdf(-6,0,1))"
   ]
  },
  {
   "cell_type": "markdown",
   "metadata": {},
   "source": [
    "***7-2)*** <br>\n",
    "$h=3$일 때, $\\hat{f(x)}=\\frac{1}{9}\\sum_{i=1}^3 \\phi\\left(\\frac{x-x_i}{3}\\right)=\\frac{1}{9} (\\phi\\left(\\frac{x-12}{3}\\right)+\\phi\\left(\\frac{x-15}{3}\\right)+\\phi\\left(\\frac{x-21}{3}\\right) ).$ 따라서 $Pr(X\\le 15)=\\int_{-\\infty}^{15}\\frac{1}{9} (\\phi\\left(\\frac{t-12}{3}\\right)+\\phi\\left(\\frac{t-15}{3}\\right)+\\phi\\left(\\frac{t-21}{3}\\right) )dt=\\frac{1}{3}\\left(\\int_{-\\infty}^{1}\\phi(x)dx+\\int_{-\\infty}^{0}\\phi(x)dx+\\int_{-\\infty}^{-2}\\phi(x)dx\\right).$"
   ]
  },
  {
   "cell_type": "code",
   "execution_count": 1,
   "metadata": {},
   "outputs": [
    {
     "data": {
      "text/plain": [
       "0.4546982926722406"
      ]
     },
     "execution_count": 1,
     "metadata": {},
     "output_type": "execute_result"
    }
   ],
   "source": [
    "from scipy import stats\n",
    "(1/3)*(stats.norm.cdf(1,0,1)+stats.norm.cdf(0,0,1)+stats.norm.cdf(-2,0,1))"
   ]
  },
  {
   "cell_type": "markdown",
   "metadata": {},
   "source": [
    "***7-3)*** <br>\n",
    "Nadaraya-Watson 추정량에서 $h=1$, $K(\\bullet)=N(0,1)$을 이용하여 회귀식을 구해보면, $\\hat{m_{NM}(x)}=\\frac{\\phi(x-12)22+\\phi(x-15)24+\\phi(x-21)25}{\\phi(x-12)+\\phi(x-15)+\\phi(x-21)}.$ 따라서 $\\hat{m_{NM}(15)}=\\frac{\\phi(3)22+\\phi(0)24+\\phi(-6)25}{\\phi(3)+\\phi(0)+\\phi(-6)}.$\n"
   ]
  },
  {
   "cell_type": "code",
   "execution_count": 2,
   "metadata": {},
   "outputs": [
    {
     "data": {
      "text/plain": [
       "23.97802613013245"
      ]
     },
     "execution_count": 2,
     "metadata": {},
     "output_type": "execute_result"
    }
   ],
   "source": [
    "from scipy import stats\n",
    "(stats.norm.pdf(3,0,1)*22+stats.norm.pdf(0,0,1)*24+stats.norm.pdf(-6,0,1)*25)/(stats.norm.pdf(3,0,1)+stats.norm.pdf(0,0,1)+stats.norm.pdf(-6,0,1))"
   ]
  },
  {
   "cell_type": "markdown",
   "metadata": {},
   "source": []
  },
  {
   "cell_type": "markdown",
   "metadata": {},
   "source": [
    "# 8장 연습문제"
   ]
  },
  {
   "cell_type": "markdown",
   "metadata": {},
   "source": [
    "***8-1)*** <br>\n",
    "실제 표본의 Good과 Bad의 개수는 각각 500개씩이며 cutoff 값에 따라서 변하지 않는다. 따라서 (a)=208, (b)=474이다."
   ]
  },
  {
   "cell_type": "markdown",
   "metadata": {},
   "source": [
    "***8-2)*** <br>\n",
    "학습에 사용한 표본과 검증에 이용한 표본의 Good과 Bad의 비율이 5:5이므로 조정된 Accuracy는 $\\gamma TPR + (1-\\gamma) TNR$로 산출된다. ($\\gamma$는 모집단의 positive 비율) <br>\n",
    "따라서 문제에서 모집단의 positive 비율은 0.8이고 $TPR=413/500$, $TNR=425/500$이므로 조정된 Accuracy는\n"
   ]
  },
  {
   "cell_type": "code",
   "execution_count": 12,
   "metadata": {
    "scrolled": true
   },
   "outputs": [
    {
     "data": {
      "text/plain": [
       "0.8308000000000001"
      ]
     },
     "execution_count": 12,
     "metadata": {},
     "output_type": "execute_result"
    }
   ],
   "source": [
    "(413/500)*0.8+(425/500)*0.2"
   ]
  },
  {
   "cell_type": "markdown",
   "metadata": {
    "hide_input": true
   },
   "source": [
    "따라서 cutoff가 0.5인 경우 조정된 Accuracy는 기존의 Accuracy보다 낮은 값을 갖는다."
   ]
  }
 ],
 "metadata": {
  "kernelspec": {
   "display_name": "Python 3",
   "language": "python",
   "name": "python3"
  },
  "language_info": {
   "codemirror_mode": {
    "name": "ipython",
    "version": 3
   },
   "file_extension": ".py",
   "mimetype": "text/x-python",
   "name": "python",
   "nbconvert_exporter": "python",
   "pygments_lexer": "ipython3",
   "version": "3.8.5"
  }
 },
 "nbformat": 4,
 "nbformat_minor": 4
}
