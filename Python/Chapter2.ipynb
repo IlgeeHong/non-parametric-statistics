{
 "cells": [
  {
   "cell_type": "markdown",
   "metadata": {},
   "source": [
    "# 2장 연습문제"
   ]
  },
  {
   "cell_type": "markdown",
   "metadata": {},
   "source": [
    "1-1) 경험분포함수(empirical distribution function)을 그리시오."
   ]
  },
  {
   "cell_type": "code",
   "execution_count": 21,
   "metadata": {},
   "outputs": [],
   "source": [
    "import matplotlib.pyplot as plt\n",
    "import numpy as np"
   ]
  },
  {
   "cell_type": "code",
   "execution_count": 22,
   "metadata": {},
   "outputs": [],
   "source": [
    "x = np.array([-2.3, 2.1, 1.3, 1.4, 0.3, -0.5, 3.2, 0.6, 0.9])\n",
    "x.sort()\n",
    "y = np.linspace(start=1/len(x), stop=1, num=9)"
   ]
  },
  {
   "cell_type": "code",
   "execution_count": 23,
   "metadata": {},
   "outputs": [
    {
     "data": {
      "image/png": "[encoded data removed]",
      "text/plain": [
       "<Figure size 432x288 with 1 Axes>"
      ]
     },
     "metadata": {
      "needs_background": "light"
     },
     "output_type": "display_data"
    }
   ],
   "source": [
    "fig1, ax = plt.subplots(1,1)"
   ]
  },
  {
   "cell_type": "code",
   "execution_count": 33,
   "metadata": {},
   "outputs": [
    {
     "data": {
      "image/png": "[encoded data removed]",
      "text/plain": [
       "<Figure size 432x288 with 1 Axes>"
      ]
     },
     "metadata": {},
     "output_type": "display_data"
    }
   ],
   "source": [
    "ax.step(x,y,'.-g',where='post')\n",
    "ax.hlines(0,-3,x.min(),'g')\n",
    "ax.hlines(1,x.max(),4,'g')\n",
    "ax.vlines(x.min(),0,y.min(),'g')\n",
    "ax.set_title('ECDF')\n",
    "ax.set_xlabel('x')\n",
    "ax.set_ylabel('F(x)')\n",
    "display(fig1)"
   ]
  },
  {
   "cell_type": "markdown",
   "metadata": {},
   "source": [
    "1-2) $Pr(X\\le2)$를 추정하시오"
   ]
  },
  {
   "cell_type": "code",
   "execution_count": 31,
   "metadata": {},
   "outputs": [
    {
     "data": {
      "image/png": "[encoded data removed]",
      "text/plain": [
       "<Figure size 432x288 with 1 Axes>"
      ]
     },
     "execution_count": 31,
     "metadata": {},
     "output_type": "execute_result"
    }
   ],
   "source": [
    "ax.hlines(7/9, -3, 2, ls='dashed')\n",
    "ax.vlines(2, 0, 7/9, ls='dashed')\n",
    "ax.autoscale(axis='both',tight=True)\n",
    "fig1"
   ]
  },
  {
   "cell_type": "markdown",
   "metadata": {},
   "source": [
    "$\\hat{Pr(X\\le2)}=\\frac{7}{9}$"
   ]
  },
  {
   "cell_type": "markdown",
   "metadata": {},
   "source": [
    "1-3) $H_0: Pr(X\\le2)=0.5$를 검정하시오."
   ]
  },
  {
   "cell_type": "markdown",
   "metadata": {},
   "source": [
    "$Pr(X\\le2)=E[I(X\\le2)]$이므로 $Y=I(X\\le2)$로 정의하면 Y는 0과 1을 값으로 취하고 1이 나올 확률이 $E[I(X\\le2)]=p$인 베르누이 분포를 갖는다. 따라서 $Pr(X\\le2)=0.5$를 검정하는 것은 베르누이분포의 모수인 $p$가 0.5인지 검정하는 것과 동일하다. 이에 따라서 검정을 시행한 결과는 아래와 같다."
   ]
  },
  {
   "cell_type": "markdown",
   "metadata": {},
   "source": [
    "$H_0: p=0.5$ vs $H_1: p\\neq0.5$<br>\n",
    "새로 정의한 Y는 아래와 같다."
   ]
  },
  {
   "cell_type": "code",
   "execution_count": 137,
   "metadata": {},
   "outputs": [
    {
     "name": "stdout",
     "output_type": "stream",
     "text": [
      "[1 1 1 1 1 1 1 0 0]\n"
     ]
    }
   ],
   "source": [
    "y_new = x<=2\n",
    "print(y_new.astype(int)) # Y"
   ]
  },
  {
   "cell_type": "markdown",
   "metadata": {},
   "source": [
    "검정통계량 $\\sum{Y_i}\\sim^{under H_0}Bin(9,0.5)$ "
   ]
  },
  {
   "cell_type": "markdown",
   "metadata": {},
   "source": [
    "$\\sum{Y_i}=7$이므로 p-value는:"
   ]
  },
  {
   "cell_type": "code",
   "execution_count": 182,
   "metadata": {},
   "outputs": [
    {
     "name": "stdout",
     "output_type": "stream",
     "text": [
      "0.039\n"
     ]
    }
   ],
   "source": [
    "from scipy.stats import binom\n",
    "p = 2*binom.sf(7,9,0.5)\n",
    "print(p.round(3))"
   ]
  },
  {
   "cell_type": "markdown",
   "metadata": {},
   "source": [
    "p-value가 유의수준 0.05보다 작으므로 귀무가설을 기각한다. 따라서 $p\\neq0.5$"
   ]
  },
  {
   "cell_type": "markdown",
   "metadata": {},
   "source": [
    "2-1) 경험분포함수를 구하고 그리고 경험분포함수의 단점에 대해 쓰시오."
   ]
  },
  {
   "cell_type": "code",
   "execution_count": 160,
   "metadata": {},
   "outputs": [],
   "source": [
    "x=np.array([4.12,-0.68,0.19,1.11,0.37,1.16,-3.65,0.03,0.81,0.03])\n",
    "x.sort()\n",
    "y=np.linspace(start=1/len(x),stop=1,num=len(x))"
   ]
  },
  {
   "cell_type": "code",
   "execution_count": 162,
   "metadata": {},
   "outputs": [
    {
     "data": {
      "image/png": "[encoded data removed]",
      "text/plain": [
       "<Figure size 432x288 with 1 Axes>"
      ]
     },
     "metadata": {
      "needs_background": "light"
     },
     "output_type": "display_data"
    }
   ],
   "source": [
    "plt.step(x,y,'.-g',where='post')\n",
    "plt.hlines(0,math.floor(x.min()),x.min(),'g')\n",
    "plt.hlines(1,x.max(),math.ceil(x.max()),'g')\n",
    "plt.vlines(x.min(),0,y.min(),'g')\n",
    "plt.title('ECDF')\n",
    "plt.xlabel('x')\n",
    "plt.ylabel('F(x)')\n",
    "plt.show()"
   ]
  },
  {
   "cell_type": "markdown",
   "metadata": {},
   "source": [
    "경험분포함수의 단점은 아래와 같다.\n",
    "1. 표본의 수가 작을 경우, tail부분에 대한 확률이 정확하지 않다.\n",
    "2. 원래의 cdf는 연속형이지만 경험분포함수는 이산형이다.\n",
    "3. 경험분포함수의 미분이 잘 정의되지 않는다."
   ]
  },
  {
   "cell_type": "markdown",
   "metadata": {},
   "source": [
    "2-2) $F(0)$을 추정하고 추정치의 표준오차를 구하여 $H_0: F(0)=0.5$를 검정하시오."
   ]
  },
  {
   "cell_type": "markdown",
   "metadata": {},
   "source": [
    "새로운 변수 $Y$를 $I(X\\le0)$으로 정의하자. $Y$는 다음과 같다."
   ]
  },
  {
   "cell_type": "code",
   "execution_count": 164,
   "metadata": {},
   "outputs": [
    {
     "name": "stdout",
     "output_type": "stream",
     "text": [
      "[1 1 0 0 0 0 0 0 0 0]\n"
     ]
    }
   ],
   "source": [
    "y_new = x <= 0\n",
    "print(y_new.astype(int))"
   ]
  },
  {
   "cell_type": "markdown",
   "metadata": {},
   "source": [
    "$F(0)=E(I(X\\le0)]=E(Y)$이므로 $F(0)$의 추정량은 $\\bar{Y}$이다. 따라서 $\\hat{F(0)}=\\bar{Y}=0.2$로 구할 수 있으며, 표준오차는 $\\sqrt{V(\\bar{Y})}=\\sqrt{\\frac{p(1-p)}{n}}\\approx\\sqrt{\\frac{\\bar{Y}(1-\\bar{Y})}{n}}\\approx0.126$"
   ]
  },
  {
   "cell_type": "markdown",
   "metadata": {},
   "source": [
    "$H_0:F(0)=0.5$ vs $H_1:F(0)\\ne0.5$<br>\n",
    "귀무가설이 참일 때, 검정통계량 $\\sum{Y_i}\\sim Bin(10,0.5)$<br>\n",
    "$\\sum{Y_i}=2$이므로 p-value는:"
   ]
  },
  {
   "cell_type": "code",
   "execution_count": 181,
   "metadata": {},
   "outputs": [
    {
     "name": "stdout",
     "output_type": "stream",
     "text": [
      "0.109\n"
     ]
    }
   ],
   "source": [
    "from scipy.stats import binom\n",
    "p = 2*binom.cdf(2,10,0.5)\n",
    "print(p.round(3))"
   ]
  },
  {
   "cell_type": "markdown",
   "metadata": {},
   "source": [
    "p-value가 유의수준 0.05보다 크므로 귀무가설을 기각하지 못한다. 따라서 $p=0.5$"
   ]
  },
  {
   "cell_type": "markdown",
   "metadata": {},
   "source": [
    "2-4) $V(exp(X))$를 대략적으로 추정하고 3)에서의 결과와 비교하시오. 무엇이 잘못인가?"
   ]
  },
  {
   "cell_type": "code",
   "execution_count": 180,
   "metadata": {},
   "outputs": [
    {
     "name": "stdout",
     "output_type": "stream",
     "text": [
      "325.318\n"
     ]
    }
   ],
   "source": [
    "var = np.exp(x).var()\n",
    "print(var.round(3))"
   ]
  },
  {
   "cell_type": "markdown",
   "metadata": {},
   "source": [
    "n이 커져도 $X$는 $\\mu$로 근사가 되지 않기 때문에 $\\mu$에 대한 테일러 정리를 통해 $exp(X)$를 근사시키는 방법은 옳지 않다."
   ]
  },
  {
   "cell_type": "markdown",
   "metadata": {},
   "source": [
    "2-5) $V(exp(\\bar{X}))$를 붓스트랩을 이용하여 추정하기 위한 코드를 쓰시오."
   ]
  },
  {
   "cell_type": "code",
   "execution_count": 187,
   "metadata": {
    "scrolled": true
   },
   "outputs": [
    {
     "name": "stdout",
     "output_type": "stream",
     "text": [
      "1.097\n"
     ]
    }
   ],
   "source": [
    "B = 10000\n",
    "result = []\n",
    "for i in range(B):\n",
    "    temp = np.random.choice(x,len(x)) # with replacement\n",
    "    result.append(np.exp(temp.mean())) \n",
    "result = np.array(result)\n",
    "var = result.var()\n",
    "print(var.round(3))"
   ]
  }
 ],
 "metadata": {
  "kernelspec": {
   "display_name": "Python 3",
   "language": "python",
   "name": "python3"
  },
  "language_info": {
   "codemirror_mode": {
    "name": "ipython",
    "version": 3
   },
   "file_extension": ".py",
   "mimetype": "text/x-python",
   "name": "python",
   "nbconvert_exporter": "python",
   "pygments_lexer": "ipython3",
   "version": "3.8.5"
  }
 },
 "nbformat": 4,
 "nbformat_minor": 4
}
