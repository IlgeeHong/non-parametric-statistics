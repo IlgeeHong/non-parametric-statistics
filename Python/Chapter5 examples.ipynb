{
 "cells": [
  {
   "cell_type": "markdown",
   "metadata": {},
   "source": [
    "## McNemar's test"
   ]
  },
  {
   "cell_type": "code",
   "execution_count": 53,
   "metadata": {},
   "outputs": [
    {
     "name": "stdout",
     "output_type": "stream",
     "text": [
      "pvalue      0.15729920705028105\n",
      "statistic   2.0\n"
     ]
    }
   ],
   "source": [
    "from statsmodels.stats.contingency_tables import mcnemar\n",
    "import numpy as np\n",
    "data = np.array([[61,12],[6,21]])\n",
    "print(mcnemar(data,exact=False,correction=False))"
   ]
  },
  {
   "cell_type": "markdown",
   "metadata": {},
   "source": [
    "## Cochran's Q test"
   ]
  },
  {
   "cell_type": "code",
   "execution_count": 38,
   "metadata": {},
   "outputs": [
    {
     "name": "stdout",
     "output_type": "stream",
     "text": [
      "df          2\n",
      "pvalue      0.04978706836786395\n",
      "statistic   6.0\n"
     ]
    }
   ],
   "source": [
    "from statsmodels.stats.contingency_tables import cochrans_q\n",
    "import numpy as np\n",
    "A = np.array([1,0,0,1,1,1,1,1,1,1])\n",
    "B = np.array([0,1,0,0,0,1,0,1,0,0])\n",
    "C = np.array([1,1,0,1,0,1,0,1,1,1])\n",
    "data = np.array([A,B,C])\n",
    "data = data.transpose()\n",
    "print(cochrans_q(data))"
   ]
  },
  {
   "cell_type": "markdown",
   "metadata": {},
   "source": [
    "## Signed test exercise plot"
   ]
  },
  {
   "cell_type": "code",
   "execution_count": 6,
   "metadata": {},
   "outputs": [],
   "source": [
    "import numpy as np\n",
    "import matplotlib.pyplot as plt\n",
    "from scipy.stats import norm"
   ]
  },
  {
   "cell_type": "code",
   "execution_count": 48,
   "metadata": {},
   "outputs": [
    {
     "data": {
      "text/plain": [
       "Text(7.38905609893065, -0.01, 'E[Y]')"
      ]
     },
     "execution_count": 48,
     "metadata": {},
     "output_type": "execute_result"
    },
    {
     "data": {
      "image/png": "[encoded data removed]",
      "text/plain": [
       "<Figure size 432x288 with 1 Axes>"
      ]
     },
     "metadata": {
      "needs_background": "light"
     },
     "output_type": "display_data"
    }
   ],
   "source": [
    "log_x = np.linspace(-3,3,1000)\n",
    "px1 = norm.pdf(log_x1,0,1)\n",
    "px2 = norm.pdf(log_x2,0,2)\n",
    "x = np.exp(log_x)\n",
    "fig, ax = plt.subplots(1,1)\n",
    "p1,=ax.plot(x,px1,c='C0')\n",
    "p2,=ax.plot(x,px2,c='C1')\n",
    "ex1 = np.exp(0.5)\n",
    "epx1 = norm.pdf(0.5,0,1)\n",
    "ex2 = np.exp(2)\n",
    "epx2 = norm.pdf(2,0,1)\n",
    "ax.vlines(ex1,0,epx1,colors='C0',linestyles='dashed')\n",
    "ax.vlines(ex2,0,epx2,colors='C1',linestyles='dashed')\n",
    "ax.legend((p1,p2),('Pr(X)','Pr(Y)'))\n",
    "plt.annotate('E[X]',(ex1,-0.01),ha='center')\n",
    "plt.annotate('E[Y]',(ex2,-0.01),ha='center')"
   ]
  },
  {
   "cell_type": "markdown",
   "metadata": {},
   "source": [
    "## Wilcoxon signed rank test"
   ]
  },
  {
   "cell_type": "code",
   "execution_count": 57,
   "metadata": {},
   "outputs": [
    {
     "data": {
      "text/plain": [
       "WilcoxonResult(statistic=36.5, pvalue=0.8752340238797087)"
      ]
     },
     "execution_count": 57,
     "metadata": {},
     "output_type": "execute_result"
    }
   ],
   "source": [
    "import numpy as np\n",
    "from scipy.stats import wilcoxon\n",
    "y1=np.array([86,71,77,68,91,72,77,91,70,71,88,87])\n",
    "y2=np.array([88,77,76,64,96,89,65,90,65,80,81,72])\n",
    "wilcoxon(y1,y2,correction=True,mode='approx')"
   ]
  },
  {
   "cell_type": "markdown",
   "metadata": {},
   "source": [
    "## Friedman test"
   ]
  },
  {
   "cell_type": "code",
   "execution_count": 61,
   "metadata": {},
   "outputs": [
    {
     "data": {
      "text/plain": [
       "FriedmanchisquareResult(statistic=4.0, pvalue=0.1353352832366127)"
      ]
     },
     "execution_count": 61,
     "metadata": {},
     "output_type": "execute_result"
    }
   ],
   "source": [
    "import numpy as np\n",
    "from scipy.stats import friedmanchisquare\n",
    "A=np.array([6.6,7.1,7.5,9.9,13.8,13.9])\n",
    "B=np.array([12.6,3.5,4.4,7.5,6.4,13.5])\n",
    "C=np.array([2.7,2.4,6.5,16.2,8.3,5.4])\n",
    "friedmanchisquare(A,B,C)"
   ]
  },
  {
   "cell_type": "code",
   "execution_count": null,
   "metadata": {},
   "outputs": [],
   "source": []
  }
 ],
 "metadata": {
  "kernelspec": {
   "display_name": "Python 3",
   "language": "python",
   "name": "python3"
  },
  "language_info": {
   "codemirror_mode": {
    "name": "ipython",
    "version": 3
   },
   "file_extension": ".py",
   "mimetype": "text/x-python",
   "name": "python",
   "nbconvert_exporter": "python",
   "pygments_lexer": "ipython3",
   "version": "3.8.5"
  }
 },
 "nbformat": 4,
 "nbformat_minor": 4
}
