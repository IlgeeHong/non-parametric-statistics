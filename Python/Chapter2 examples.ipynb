{
 "cells": [
  {
   "cell_type": "markdown",
   "metadata": {},
   "source": [
    "## ECDF"
   ]
  },
  {
   "cell_type": "code",
   "execution_count": 25,
   "metadata": {},
   "outputs": [],
   "source": [
    "import matplotlib.pyplot as plt\n",
    "import numpy as np"
   ]
  },
  {
   "cell_type": "code",
   "execution_count": 32,
   "metadata": {},
   "outputs": [
    {
     "data": {
      "text/plain": [
       "Text(0, 0.5, 'F(x)')"
      ]
     },
     "execution_count": 32,
     "metadata": {},
     "output_type": "execute_result"
    },
    {
     "data": {
      "image/png": "[encoded data removed]",
      "text/plain": [
       "<Figure size 432x288 with 1 Axes>"
      ]
     },
     "metadata": {
      "needs_background": "light"
     },
     "output_type": "display_data"
    }
   ],
   "source": [
    "x = np.linspace(start=40,stop=90,num=6)\n",
    "y = np.linspace(start=1/len(x), stop=1, num=6)\n",
    "fig1, ax = plt.subplots(1,1)\n",
    "ax.step(x,y,'.-g',where='post')\n",
    "ax.hlines(0,30,x.min(),'g')\n",
    "ax.hlines(1,x.max(),100,'g')\n",
    "ax.vlines(x.min(),0,y.min(),linestyle='dashed')\n",
    "ax.set_title('ECDF')\n",
    "ax.set_xlabel('x')\n",
    "ax.set_ylabel('F(x)')"
   ]
  },
  {
   "cell_type": "markdown",
   "metadata": {},
   "source": [
    "## Bootstrap"
   ]
  },
  {
   "cell_type": "code",
   "execution_count": 38,
   "metadata": {},
   "outputs": [
    {
     "name": "stdout",
     "output_type": "stream",
     "text": [
      "0.09391471062855239\n"
     ]
    }
   ],
   "source": [
    "x = np.array([2.08, 2.60, 2.67, 2.70, 2.94, 3.08, 3.71, 4.66, 4.71, 5.20])\n",
    "B = 10000\n",
    "result = []\n",
    "for i in range(B):\n",
    "    temp = np.random.choice(x,len(x)) # with replacement\n",
    "    result.append(np.log(temp.mean())) \n",
    "result = np.array(result)\n",
    "std = result.std()\n",
    "print(std)"
   ]
  },
  {
   "cell_type": "code",
   "execution_count": 56,
   "metadata": {},
   "outputs": [
    {
     "name": "stdout",
     "output_type": "stream",
     "text": [
      "[2.844, 4.089]\n"
     ]
    }
   ],
   "source": [
    "x = np.array([2.08, 2.60, 2.67, 2.70, 2.94, 3.08, 3.71, 4.66, 4.71, 5.20])\n",
    "B = 10000\n",
    "result = []\n",
    "for i in range(B):\n",
    "    temp = np.random.choice(x,len(x)) # with replacement\n",
    "    result.append(temp.mean()) \n",
    "result = np.sort(result)\n",
    "l, u = int(B*0.024), int(B*0.975)\n",
    "print([result[l],result[u]])"
   ]
  },
  {
   "cell_type": "markdown",
   "metadata": {},
   "source": [
    "## Kaplan Meier"
   ]
  },
  {
   "cell_type": "code",
   "execution_count": 1,
   "metadata": {},
   "outputs": [
    {
     "data": {
      "text/plain": [
       "<AxesSubplot:xlabel='timeline'>"
      ]
     },
     "execution_count": 1,
     "metadata": {},
     "output_type": "execute_result"
    },
    {
     "data": {
      "image/png": "[encoded data removed]",
      "text/plain": [
       "<Figure size 432x288 with 1 Axes>"
      ]
     },
     "metadata": {
      "needs_background": "light"
     },
     "output_type": "display_data"
    }
   ],
   "source": [
    "from lifelines import KaplanMeierFitter\n",
    "\n",
    "x = [37,43,47,56,60,62,71,77,80,81]\n",
    "d = [0,0,1,1,0,0,0,1,1,1]\n",
    "\n",
    "kmf = KaplanMeierFitter() \n",
    "kmf.fit(x,d,label='Kaplan Meier Estimate')\n",
    "kmf.plot(ci_show=False)"
   ]
  }
 ],
 "metadata": {
  "kernelspec": {
   "display_name": "Python 3",
   "language": "python",
   "name": "python3"
  },
  "language_info": {
   "codemirror_mode": {
    "name": "ipython",
    "version": 3
   },
   "file_extension": ".py",
   "mimetype": "text/x-python",
   "name": "python",
   "nbconvert_exporter": "python",
   "pygments_lexer": "ipython3",
   "version": "3.8.5"
  }
 },
 "nbformat": 4,
 "nbformat_minor": 4
}
